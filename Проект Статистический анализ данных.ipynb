{
 "cells": [
  {
   "cell_type": "markdown",
   "id": "ea7a25d9",
   "metadata": {},
   "source": [
    "# Проект: Статистический анализ данных"
   ]
  },
  {
   "cell_type": "markdown",
   "id": "59154500",
   "metadata": {},
   "source": [
    "**Заголовок:** Анализ данных сервиса аренды самокатов GoFast\n",
    "\n",
    "**Цель исследования:** Проанализировать данные сервиса аренды самокатов GoFast и проверить некоторые гипотезы, которые могут помочь бизнесу вырасти.\n",
    "\n",
    "**Ход исследования:**\n",
    "1. Анализ информации о данных: загрузка и изучение общей информации из датасетов\n",
    "2. Предобработка данных: обработка дубликатов и изменение типов данных\n",
    "3. Исследовательский анализ данных: описание и визуализация общей информации о пользователях и поездках\n",
    "4. Объединение данных: формирование датасетов по типу подписки и анализ длительности поездок и расстояний\n",
    "5. Подсчёт выручки: расчет посячной выручки для каждого пользователя\n",
    "6. Проверка гипотез: проверка гипотез о \"выгодности\" пользователей с подпиской для компании\n",
    "7. Распределения:расчет оптимального количества промокодов и уведомлений\n",
    "\n",
    "**Общий вывод:** резюмирование полученных результатов, формулировка ключевых выводов и рекомендаций"
   ]
  },
  {
   "cell_type": "code",
   "execution_count": 1,
   "id": "72576667",
   "metadata": {},
   "outputs": [],
   "source": [
    "#загружаю библиотеки\n",
    "import pandas as pd\n",
    "import matplotlib.pyplot as plt\n",
    "import numpy as np\n",
    "import scipy.stats as st\n",
    "import math\n",
    "from scipy.stats import norm"
   ]
  },
  {
   "cell_type": "markdown",
   "id": "c42cbe00",
   "metadata": {},
   "source": [
    "#### Шаг 1. Загрузка данных"
   ]
  },
  {
   "cell_type": "code",
   "execution_count": 2,
   "id": "eff9f206",
   "metadata": {},
   "outputs": [],
   "source": [
    "#открываю данные\n",
    "data_users = pd.read_csv('/datasets/users_go.csv') #информация о пользователях\n",
    "data_rides = pd.read_csv('/datasets/rides_go.csv') #информация о поездках\n",
    "data_subscriptions = pd.read_csv('/datasets/subscriptions_go.csv') #информация о подписках"
   ]
  },
  {
   "cell_type": "code",
   "execution_count": 3,
   "id": "3874096d",
   "metadata": {},
   "outputs": [
    {
     "name": "stdout",
     "output_type": "stream",
     "text": [
      "<class 'pandas.core.frame.DataFrame'>\n",
      "RangeIndex: 1565 entries, 0 to 1564\n",
      "Data columns (total 5 columns):\n",
      " #   Column             Non-Null Count  Dtype \n",
      "---  ------             --------------  ----- \n",
      " 0   user_id            1565 non-null   int64 \n",
      " 1   name               1565 non-null   object\n",
      " 2   age                1565 non-null   int64 \n",
      " 3   city               1565 non-null   object\n",
      " 4   subscription_type  1565 non-null   object\n",
      "dtypes: int64(2), object(3)\n",
      "memory usage: 61.3+ KB\n",
      "Количество явных дубликатов в \"data_users\" =  31\n"
     ]
    }
   ],
   "source": [
    "data_users.info() #изучаю общую информацию о пользователях\n",
    "print('Количество явных дубликатов в \"data_users\" = ', data_users.duplicated().sum())"
   ]
  },
  {
   "cell_type": "code",
   "execution_count": 4,
   "id": "462ffea0",
   "metadata": {},
   "outputs": [
    {
     "name": "stdout",
     "output_type": "stream",
     "text": [
      "<class 'pandas.core.frame.DataFrame'>\n",
      "RangeIndex: 18068 entries, 0 to 18067\n",
      "Data columns (total 4 columns):\n",
      " #   Column    Non-Null Count  Dtype  \n",
      "---  ------    --------------  -----  \n",
      " 0   user_id   18068 non-null  int64  \n",
      " 1   distance  18068 non-null  float64\n",
      " 2   duration  18068 non-null  float64\n",
      " 3   date      18068 non-null  object \n",
      "dtypes: float64(2), int64(1), object(1)\n",
      "memory usage: 564.8+ KB\n",
      "Количество явных дубликатов в \"data_rides\" =  0\n"
     ]
    }
   ],
   "source": [
    "data_rides.info() #изучаю общую информацию о поездках\n",
    "print('Количество явных дубликатов в \"data_rides\" = ', data_rides.duplicated().sum())"
   ]
  },
  {
   "cell_type": "code",
   "execution_count": 5,
   "id": "5c302c59",
   "metadata": {},
   "outputs": [
    {
     "name": "stdout",
     "output_type": "stream",
     "text": [
      "<class 'pandas.core.frame.DataFrame'>\n",
      "RangeIndex: 2 entries, 0 to 1\n",
      "Data columns (total 4 columns):\n",
      " #   Column             Non-Null Count  Dtype \n",
      "---  ------             --------------  ----- \n",
      " 0   subscription_type  2 non-null      object\n",
      " 1   minute_price       2 non-null      int64 \n",
      " 2   start_ride_price   2 non-null      int64 \n",
      " 3   subscription_fee   2 non-null      int64 \n",
      "dtypes: int64(3), object(1)\n",
      "memory usage: 192.0+ bytes\n",
      "Количество явных дубликатов в \"data_subscriptions\" =  0\n"
     ]
    }
   ],
   "source": [
    "data_subscriptions.info() #изучаю общую информацию о подписках\n",
    "print('Количество явных дубликатов в \"data_subscriptions\" = ', data_subscriptions.duplicated().sum())"
   ]
  },
  {
   "cell_type": "code",
   "execution_count": 6,
   "id": "852654f4",
   "metadata": {},
   "outputs": [
    {
     "data": {
      "text/html": [
       "<div>\n",
       "<style scoped>\n",
       "    .dataframe tbody tr th:only-of-type {\n",
       "        vertical-align: middle;\n",
       "    }\n",
       "\n",
       "    .dataframe tbody tr th {\n",
       "        vertical-align: top;\n",
       "    }\n",
       "\n",
       "    .dataframe thead th {\n",
       "        text-align: right;\n",
       "    }\n",
       "</style>\n",
       "<table border=\"1\" class=\"dataframe\">\n",
       "  <thead>\n",
       "    <tr style=\"text-align: right;\">\n",
       "      <th></th>\n",
       "      <th>user_id</th>\n",
       "      <th>name</th>\n",
       "      <th>age</th>\n",
       "      <th>city</th>\n",
       "      <th>subscription_type</th>\n",
       "    </tr>\n",
       "  </thead>\n",
       "  <tbody>\n",
       "    <tr>\n",
       "      <th>0</th>\n",
       "      <td>1</td>\n",
       "      <td>Кира</td>\n",
       "      <td>22</td>\n",
       "      <td>Тюмень</td>\n",
       "      <td>ultra</td>\n",
       "    </tr>\n",
       "    <tr>\n",
       "      <th>1</th>\n",
       "      <td>2</td>\n",
       "      <td>Станислав</td>\n",
       "      <td>31</td>\n",
       "      <td>Омск</td>\n",
       "      <td>ultra</td>\n",
       "    </tr>\n",
       "    <tr>\n",
       "      <th>2</th>\n",
       "      <td>3</td>\n",
       "      <td>Алексей</td>\n",
       "      <td>20</td>\n",
       "      <td>Москва</td>\n",
       "      <td>ultra</td>\n",
       "    </tr>\n",
       "    <tr>\n",
       "      <th>3</th>\n",
       "      <td>4</td>\n",
       "      <td>Константин</td>\n",
       "      <td>26</td>\n",
       "      <td>Ростов-на-Дону</td>\n",
       "      <td>ultra</td>\n",
       "    </tr>\n",
       "    <tr>\n",
       "      <th>4</th>\n",
       "      <td>5</td>\n",
       "      <td>Адель</td>\n",
       "      <td>28</td>\n",
       "      <td>Омск</td>\n",
       "      <td>ultra</td>\n",
       "    </tr>\n",
       "  </tbody>\n",
       "</table>\n",
       "</div>"
      ],
      "text/plain": [
       "   user_id        name  age            city subscription_type\n",
       "0        1        Кира   22          Тюмень             ultra\n",
       "1        2   Станислав   31            Омск             ultra\n",
       "2        3     Алексей   20          Москва             ultra\n",
       "3        4  Константин   26  Ростов-на-Дону             ultra\n",
       "4        5       Адель   28            Омск             ultra"
      ]
     },
     "execution_count": 6,
     "metadata": {},
     "output_type": "execute_result"
    }
   ],
   "source": [
    "data_users.head() #вывожу первые строки data_users"
   ]
  },
  {
   "cell_type": "code",
   "execution_count": 7,
   "id": "4f7bcf62",
   "metadata": {},
   "outputs": [
    {
     "data": {
      "text/html": [
       "<div>\n",
       "<style scoped>\n",
       "    .dataframe tbody tr th:only-of-type {\n",
       "        vertical-align: middle;\n",
       "    }\n",
       "\n",
       "    .dataframe tbody tr th {\n",
       "        vertical-align: top;\n",
       "    }\n",
       "\n",
       "    .dataframe thead th {\n",
       "        text-align: right;\n",
       "    }\n",
       "</style>\n",
       "<table border=\"1\" class=\"dataframe\">\n",
       "  <thead>\n",
       "    <tr style=\"text-align: right;\">\n",
       "      <th></th>\n",
       "      <th>user_id</th>\n",
       "      <th>distance</th>\n",
       "      <th>duration</th>\n",
       "      <th>date</th>\n",
       "    </tr>\n",
       "  </thead>\n",
       "  <tbody>\n",
       "    <tr>\n",
       "      <th>0</th>\n",
       "      <td>1</td>\n",
       "      <td>4409.919140</td>\n",
       "      <td>25.599769</td>\n",
       "      <td>2021-01-01</td>\n",
       "    </tr>\n",
       "    <tr>\n",
       "      <th>1</th>\n",
       "      <td>1</td>\n",
       "      <td>2617.592153</td>\n",
       "      <td>15.816871</td>\n",
       "      <td>2021-01-18</td>\n",
       "    </tr>\n",
       "    <tr>\n",
       "      <th>2</th>\n",
       "      <td>1</td>\n",
       "      <td>754.159807</td>\n",
       "      <td>6.232113</td>\n",
       "      <td>2021-04-20</td>\n",
       "    </tr>\n",
       "    <tr>\n",
       "      <th>3</th>\n",
       "      <td>1</td>\n",
       "      <td>2694.783254</td>\n",
       "      <td>18.511000</td>\n",
       "      <td>2021-08-11</td>\n",
       "    </tr>\n",
       "    <tr>\n",
       "      <th>4</th>\n",
       "      <td>1</td>\n",
       "      <td>4028.687306</td>\n",
       "      <td>26.265803</td>\n",
       "      <td>2021-08-28</td>\n",
       "    </tr>\n",
       "  </tbody>\n",
       "</table>\n",
       "</div>"
      ],
      "text/plain": [
       "   user_id     distance   duration        date\n",
       "0        1  4409.919140  25.599769  2021-01-01\n",
       "1        1  2617.592153  15.816871  2021-01-18\n",
       "2        1   754.159807   6.232113  2021-04-20\n",
       "3        1  2694.783254  18.511000  2021-08-11\n",
       "4        1  4028.687306  26.265803  2021-08-28"
      ]
     },
     "execution_count": 7,
     "metadata": {},
     "output_type": "execute_result"
    }
   ],
   "source": [
    "data_rides.head() #вывожу первые строки data_rides"
   ]
  },
  {
   "cell_type": "code",
   "execution_count": 8,
   "id": "ebc03330",
   "metadata": {},
   "outputs": [
    {
     "data": {
      "text/html": [
       "<div>\n",
       "<style scoped>\n",
       "    .dataframe tbody tr th:only-of-type {\n",
       "        vertical-align: middle;\n",
       "    }\n",
       "\n",
       "    .dataframe tbody tr th {\n",
       "        vertical-align: top;\n",
       "    }\n",
       "\n",
       "    .dataframe thead th {\n",
       "        text-align: right;\n",
       "    }\n",
       "</style>\n",
       "<table border=\"1\" class=\"dataframe\">\n",
       "  <thead>\n",
       "    <tr style=\"text-align: right;\">\n",
       "      <th></th>\n",
       "      <th>subscription_type</th>\n",
       "      <th>minute_price</th>\n",
       "      <th>start_ride_price</th>\n",
       "      <th>subscription_fee</th>\n",
       "    </tr>\n",
       "  </thead>\n",
       "  <tbody>\n",
       "    <tr>\n",
       "      <th>0</th>\n",
       "      <td>free</td>\n",
       "      <td>8</td>\n",
       "      <td>50</td>\n",
       "      <td>0</td>\n",
       "    </tr>\n",
       "    <tr>\n",
       "      <th>1</th>\n",
       "      <td>ultra</td>\n",
       "      <td>6</td>\n",
       "      <td>0</td>\n",
       "      <td>199</td>\n",
       "    </tr>\n",
       "  </tbody>\n",
       "</table>\n",
       "</div>"
      ],
      "text/plain": [
       "  subscription_type  minute_price  start_ride_price  subscription_fee\n",
       "0              free             8                50                 0\n",
       "1             ultra             6                 0               199"
      ]
     },
     "execution_count": 8,
     "metadata": {},
     "output_type": "execute_result"
    }
   ],
   "source": [
    "data_subscriptions.head() #вывожу первые строки data_subscriptions"
   ]
  },
  {
   "cell_type": "markdown",
   "id": "f0ad6167",
   "metadata": {},
   "source": [
    "**Выводы:**\n",
    "    1. В данных users_go.csv 1565 строк. Пропуски отсутствуют, количество явных дубликатов 31.\n",
    "    2. В данных rides_go.csv 18068 строк. Пропуски отсутствуют, явных дубликатов не обнаружено.\n",
    "    3. В данных subscriptions_go.csv 2 строки. Пропуски отсутствуют, явных дубликатов нет."
   ]
  },
  {
   "cell_type": "markdown",
   "id": "e95ebca7",
   "metadata": {},
   "source": [
    "#### Шаг 2. Предобработка данных"
   ]
  },
  {
   "cell_type": "markdown",
   "id": "e50f1874",
   "metadata": {},
   "source": [
    "**Изменение типов данных**"
   ]
  },
  {
   "cell_type": "code",
   "execution_count": 9,
   "id": "52a1688c",
   "metadata": {},
   "outputs": [
    {
     "data": {
      "text/plain": [
       "0   2021-01-01\n",
       "1   2021-01-18\n",
       "2   2021-04-20\n",
       "3   2021-08-11\n",
       "4   2021-08-28\n",
       "Name: date, dtype: datetime64[ns]"
      ]
     },
     "execution_count": 9,
     "metadata": {},
     "output_type": "execute_result"
    }
   ],
   "source": [
    "#привожу столбец date к типу даты datetime64\n",
    "data_rides['date'] = pd.to_datetime(data_rides['date'], format='%Y-%m-%d')\n",
    "data_rides['date'].head()"
   ]
  },
  {
   "cell_type": "code",
   "execution_count": 10,
   "id": "0696fad1",
   "metadata": {},
   "outputs": [
    {
     "name": "stdout",
     "output_type": "stream",
     "text": [
      "Диапазон дат: 2021-01-01 - 2021-12-30\n"
     ]
    }
   ],
   "source": [
    "#проверяю за какой период у нас данные\n",
    "start_date = data_rides['date'].min()\n",
    "end_date = data_rides['date'].max()\n",
    "print(f\"Диапазон дат: {start_date.date()} - {end_date.date()}\")"
   ]
  },
  {
   "cell_type": "markdown",
   "id": "485db0e2",
   "metadata": {},
   "source": [
    "В наших датасетах данные только за 2021 год. Значит при агрегации по месяцам не произойдет ошибки"
   ]
  },
  {
   "cell_type": "markdown",
   "id": "453431e3",
   "metadata": {},
   "source": [
    "**Устранение дубликатов**"
   ]
  },
  {
   "cell_type": "code",
   "execution_count": 11,
   "id": "9929dc5e",
   "metadata": {},
   "outputs": [
    {
     "data": {
      "text/plain": [
       "0"
      ]
     },
     "execution_count": 11,
     "metadata": {},
     "output_type": "execute_result"
    }
   ],
   "source": [
    "#устраняю дубликаты в таблице data_users\n",
    "data_users.drop_duplicates(inplace=True)\n",
    "data_users.duplicated().sum()"
   ]
  },
  {
   "cell_type": "markdown",
   "id": "e4a458f3",
   "metadata": {},
   "source": [
    "**Округление значений**"
   ]
  },
  {
   "cell_type": "code",
   "execution_count": 12,
   "id": "ad2ee725",
   "metadata": {
    "scrolled": true
   },
   "outputs": [
    {
     "data": {
      "text/html": [
       "<div>\n",
       "<style scoped>\n",
       "    .dataframe tbody tr th:only-of-type {\n",
       "        vertical-align: middle;\n",
       "    }\n",
       "\n",
       "    .dataframe tbody tr th {\n",
       "        vertical-align: top;\n",
       "    }\n",
       "\n",
       "    .dataframe thead th {\n",
       "        text-align: right;\n",
       "    }\n",
       "</style>\n",
       "<table border=\"1\" class=\"dataframe\">\n",
       "  <thead>\n",
       "    <tr style=\"text-align: right;\">\n",
       "      <th></th>\n",
       "      <th>user_id</th>\n",
       "      <th>distance</th>\n",
       "      <th>duration</th>\n",
       "      <th>date</th>\n",
       "    </tr>\n",
       "  </thead>\n",
       "  <tbody>\n",
       "    <tr>\n",
       "      <th>0</th>\n",
       "      <td>1</td>\n",
       "      <td>4410.0</td>\n",
       "      <td>25.599769</td>\n",
       "      <td>2021-01-01</td>\n",
       "    </tr>\n",
       "    <tr>\n",
       "      <th>1</th>\n",
       "      <td>1</td>\n",
       "      <td>2618.0</td>\n",
       "      <td>15.816871</td>\n",
       "      <td>2021-01-18</td>\n",
       "    </tr>\n",
       "    <tr>\n",
       "      <th>2</th>\n",
       "      <td>1</td>\n",
       "      <td>754.0</td>\n",
       "      <td>6.232113</td>\n",
       "      <td>2021-04-20</td>\n",
       "    </tr>\n",
       "    <tr>\n",
       "      <th>3</th>\n",
       "      <td>1</td>\n",
       "      <td>2695.0</td>\n",
       "      <td>18.511000</td>\n",
       "      <td>2021-08-11</td>\n",
       "    </tr>\n",
       "    <tr>\n",
       "      <th>4</th>\n",
       "      <td>1</td>\n",
       "      <td>4029.0</td>\n",
       "      <td>26.265803</td>\n",
       "      <td>2021-08-28</td>\n",
       "    </tr>\n",
       "  </tbody>\n",
       "</table>\n",
       "</div>"
      ],
      "text/plain": [
       "   user_id  distance   duration       date\n",
       "0        1    4410.0  25.599769 2021-01-01\n",
       "1        1    2618.0  15.816871 2021-01-18\n",
       "2        1     754.0   6.232113 2021-04-20\n",
       "3        1    2695.0  18.511000 2021-08-11\n",
       "4        1    4029.0  26.265803 2021-08-28"
      ]
     },
     "execution_count": 12,
     "metadata": {},
     "output_type": "execute_result"
    }
   ],
   "source": [
    "data_rides['distance'] = data_rides['distance'].round()\n",
    "data_rides.head()"
   ]
  },
  {
   "cell_type": "markdown",
   "id": "8076b83a",
   "metadata": {},
   "source": [
    "**Поиск и исправление аномалий**"
   ]
  },
  {
   "cell_type": "code",
   "execution_count": 13,
   "id": "6f0c4edf",
   "metadata": {},
   "outputs": [
    {
     "name": "stdout",
     "output_type": "stream",
     "text": [
      "Найдены аномалии в столбце 'duration':\n",
      "       user_id  distance  duration       date\n",
      "6531       701    4196.0       0.5 2021-08-31\n",
      "6570       704    4831.0       0.5 2021-10-14\n",
      "6680       712    4684.0       0.5 2021-03-04\n",
      "6695       713    5216.0       0.5 2021-02-25\n",
      "6768       718    5197.0       0.5 2021-02-11\n",
      "...        ...       ...       ...        ...\n",
      "17004     1460    5531.0       0.5 2021-01-19\n",
      "17242     1477    6725.0       0.5 2021-01-12\n",
      "17314     1483    4445.0       0.5 2021-03-06\n",
      "17505     1496    5723.0       0.5 2021-02-14\n",
      "17909     1524    4104.0       0.5 2021-06-18\n",
      "\n",
      "[95 rows x 4 columns]\n"
     ]
    }
   ],
   "source": [
    "#поиск аномалий в столбце duration\n",
    "duration_outliers = data_rides[(data_rides['duration'] < 1) | (data_rides['duration'] > 300)]\n",
    "if not duration_outliers.empty:\n",
    "    print(\"Найдены аномалии в столбце 'duration':\")\n",
    "    print(duration_outliers)\n",
    "else:\n",
    "    print(\"Аномалий в столбце 'duration' не найдено.\")"
   ]
  },
  {
   "cell_type": "markdown",
   "id": "3ad22c2f",
   "metadata": {},
   "source": [
    "Обнаружено 95 аномально коротких по продолжительности, но не по дистанции поездок. Считаю. что можно заменить для них продолжительность на медианную."
   ]
  },
  {
   "cell_type": "code",
   "execution_count": 14,
   "id": "f0d35775",
   "metadata": {},
   "outputs": [
    {
     "data": {
      "text/html": [
       "<div>\n",
       "<style scoped>\n",
       "    .dataframe tbody tr th:only-of-type {\n",
       "        vertical-align: middle;\n",
       "    }\n",
       "\n",
       "    .dataframe tbody tr th {\n",
       "        vertical-align: top;\n",
       "    }\n",
       "\n",
       "    .dataframe thead th {\n",
       "        text-align: right;\n",
       "    }\n",
       "</style>\n",
       "<table border=\"1\" class=\"dataframe\">\n",
       "  <thead>\n",
       "    <tr style=\"text-align: right;\">\n",
       "      <th></th>\n",
       "      <th>user_id</th>\n",
       "      <th>distance</th>\n",
       "      <th>duration</th>\n",
       "      <th>date</th>\n",
       "    </tr>\n",
       "  </thead>\n",
       "  <tbody>\n",
       "    <tr>\n",
       "      <th>0</th>\n",
       "      <td>1</td>\n",
       "      <td>4410.0</td>\n",
       "      <td>25.599769</td>\n",
       "      <td>2021-01-01</td>\n",
       "    </tr>\n",
       "    <tr>\n",
       "      <th>1</th>\n",
       "      <td>1</td>\n",
       "      <td>2618.0</td>\n",
       "      <td>15.816871</td>\n",
       "      <td>2021-01-18</td>\n",
       "    </tr>\n",
       "    <tr>\n",
       "      <th>2</th>\n",
       "      <td>1</td>\n",
       "      <td>754.0</td>\n",
       "      <td>6.232113</td>\n",
       "      <td>2021-04-20</td>\n",
       "    </tr>\n",
       "    <tr>\n",
       "      <th>3</th>\n",
       "      <td>1</td>\n",
       "      <td>2695.0</td>\n",
       "      <td>18.511000</td>\n",
       "      <td>2021-08-11</td>\n",
       "    </tr>\n",
       "    <tr>\n",
       "      <th>4</th>\n",
       "      <td>1</td>\n",
       "      <td>4029.0</td>\n",
       "      <td>26.265803</td>\n",
       "      <td>2021-08-28</td>\n",
       "    </tr>\n",
       "    <tr>\n",
       "      <th>...</th>\n",
       "      <td>...</td>\n",
       "      <td>...</td>\n",
       "      <td>...</td>\n",
       "      <td>...</td>\n",
       "    </tr>\n",
       "    <tr>\n",
       "      <th>18063</th>\n",
       "      <td>1534</td>\n",
       "      <td>3781.0</td>\n",
       "      <td>19.822962</td>\n",
       "      <td>2021-11-04</td>\n",
       "    </tr>\n",
       "    <tr>\n",
       "      <th>18064</th>\n",
       "      <td>1534</td>\n",
       "      <td>2840.0</td>\n",
       "      <td>21.409799</td>\n",
       "      <td>2021-11-16</td>\n",
       "    </tr>\n",
       "    <tr>\n",
       "      <th>18065</th>\n",
       "      <td>1534</td>\n",
       "      <td>3826.0</td>\n",
       "      <td>18.435051</td>\n",
       "      <td>2021-11-18</td>\n",
       "    </tr>\n",
       "    <tr>\n",
       "      <th>18066</th>\n",
       "      <td>1534</td>\n",
       "      <td>2902.0</td>\n",
       "      <td>16.674362</td>\n",
       "      <td>2021-11-27</td>\n",
       "    </tr>\n",
       "    <tr>\n",
       "      <th>18067</th>\n",
       "      <td>1534</td>\n",
       "      <td>2372.0</td>\n",
       "      <td>15.893917</td>\n",
       "      <td>2021-12-29</td>\n",
       "    </tr>\n",
       "  </tbody>\n",
       "</table>\n",
       "<p>18068 rows × 4 columns</p>\n",
       "</div>"
      ],
      "text/plain": [
       "       user_id  distance   duration       date\n",
       "0            1    4410.0  25.599769 2021-01-01\n",
       "1            1    2618.0  15.816871 2021-01-18\n",
       "2            1     754.0   6.232113 2021-04-20\n",
       "3            1    2695.0  18.511000 2021-08-11\n",
       "4            1    4029.0  26.265803 2021-08-28\n",
       "...        ...       ...        ...        ...\n",
       "18063     1534    3781.0  19.822962 2021-11-04\n",
       "18064     1534    2840.0  21.409799 2021-11-16\n",
       "18065     1534    3826.0  18.435051 2021-11-18\n",
       "18066     1534    2902.0  16.674362 2021-11-27\n",
       "18067     1534    2372.0  15.893917 2021-12-29\n",
       "\n",
       "[18068 rows x 4 columns]"
      ]
     },
     "execution_count": 14,
     "metadata": {},
     "output_type": "execute_result"
    }
   ],
   "source": [
    "median_duration = data_rides['duration'].median()\n",
    "data_rides['duration'] = data_rides['duration'].where(\n",
    "        (data_rides['duration'] >= 1) & (data_rides['duration'] <= 300),\n",
    "        median_duration\n",
    "    )\n",
    "data_rides"
   ]
  },
  {
   "cell_type": "markdown",
   "id": "4321040c",
   "metadata": {},
   "source": [
    "**Добавление столбцов**"
   ]
  },
  {
   "cell_type": "code",
   "execution_count": 15,
   "id": "45cd3fc0",
   "metadata": {},
   "outputs": [
    {
     "data": {
      "text/html": [
       "<div>\n",
       "<style scoped>\n",
       "    .dataframe tbody tr th:only-of-type {\n",
       "        vertical-align: middle;\n",
       "    }\n",
       "\n",
       "    .dataframe tbody tr th {\n",
       "        vertical-align: top;\n",
       "    }\n",
       "\n",
       "    .dataframe thead th {\n",
       "        text-align: right;\n",
       "    }\n",
       "</style>\n",
       "<table border=\"1\" class=\"dataframe\">\n",
       "  <thead>\n",
       "    <tr style=\"text-align: right;\">\n",
       "      <th></th>\n",
       "      <th>user_id</th>\n",
       "      <th>distance</th>\n",
       "      <th>duration</th>\n",
       "      <th>date</th>\n",
       "      <th>month</th>\n",
       "    </tr>\n",
       "  </thead>\n",
       "  <tbody>\n",
       "    <tr>\n",
       "      <th>0</th>\n",
       "      <td>1</td>\n",
       "      <td>4410.0</td>\n",
       "      <td>25.599769</td>\n",
       "      <td>2021-01-01</td>\n",
       "      <td>1</td>\n",
       "    </tr>\n",
       "    <tr>\n",
       "      <th>1</th>\n",
       "      <td>1</td>\n",
       "      <td>2618.0</td>\n",
       "      <td>15.816871</td>\n",
       "      <td>2021-01-18</td>\n",
       "      <td>1</td>\n",
       "    </tr>\n",
       "    <tr>\n",
       "      <th>2</th>\n",
       "      <td>1</td>\n",
       "      <td>754.0</td>\n",
       "      <td>6.232113</td>\n",
       "      <td>2021-04-20</td>\n",
       "      <td>4</td>\n",
       "    </tr>\n",
       "    <tr>\n",
       "      <th>3</th>\n",
       "      <td>1</td>\n",
       "      <td>2695.0</td>\n",
       "      <td>18.511000</td>\n",
       "      <td>2021-08-11</td>\n",
       "      <td>8</td>\n",
       "    </tr>\n",
       "    <tr>\n",
       "      <th>4</th>\n",
       "      <td>1</td>\n",
       "      <td>4029.0</td>\n",
       "      <td>26.265803</td>\n",
       "      <td>2021-08-28</td>\n",
       "      <td>8</td>\n",
       "    </tr>\n",
       "  </tbody>\n",
       "</table>\n",
       "</div>"
      ],
      "text/plain": [
       "   user_id  distance   duration       date  month\n",
       "0        1    4410.0  25.599769 2021-01-01      1\n",
       "1        1    2618.0  15.816871 2021-01-18      1\n",
       "2        1     754.0   6.232113 2021-04-20      4\n",
       "3        1    2695.0  18.511000 2021-08-11      8\n",
       "4        1    4029.0  26.265803 2021-08-28      8"
      ]
     },
     "execution_count": 15,
     "metadata": {},
     "output_type": "execute_result"
    }
   ],
   "source": [
    "#cоздаю новый столбец с номером месяца на основе столбца date\n",
    "data_rides['month'] = data_rides['date'].dt.month\n",
    "data_rides.head()"
   ]
  },
  {
   "cell_type": "markdown",
   "id": "964ccc8b",
   "metadata": {},
   "source": [
    "**Заключение**\n",
    "\n",
    "В ходе предобработки данных:\n",
    "1. Данные столбца 'date' приведены к типу даты datetime64.\n",
    "2. Устранены дубликаты в таблице data_users.\n",
    "3. Расстояния в столбце 'distance' округлены.\n",
    "4. В столбце 'duration' аномальные значения заменены на медианные.\n",
    "5. В таблице data_rides создан новый столбец 'month' с номером месяца."
   ]
  },
  {
   "cell_type": "markdown",
   "id": "212593c7",
   "metadata": {},
   "source": [
    "#### Шаг 3. Исследовательский анализ данных"
   ]
  },
  {
   "cell_type": "markdown",
   "id": "a716c19c",
   "metadata": {},
   "source": [
    "Визуализируем общую информацию о пользователях и поездках:"
   ]
  },
  {
   "cell_type": "markdown",
   "id": "11dca425",
   "metadata": {},
   "source": [
    "**Частота встречаемости городов**"
   ]
  },
  {
   "cell_type": "code",
   "execution_count": 16,
   "id": "2a5f04ba",
   "metadata": {},
   "outputs": [
    {
     "data": {
      "text/plain": [
       "Пятигорск         219\n",
       "Екатеринбург      204\n",
       "Ростов-на-Дону    198\n",
       "Краснодар         193\n",
       "Сочи              189\n",
       "Омск              183\n",
       "Тюмень            180\n",
       "Москва            168\n",
       "Name: city, dtype: int64"
      ]
     },
     "execution_count": 16,
     "metadata": {},
     "output_type": "execute_result"
    }
   ],
   "source": [
    "data_users['city'].value_counts() #вывожу таблицу пользователей по городам"
   ]
  },
  {
   "cell_type": "code",
   "execution_count": 17,
   "id": "b36b0ba2",
   "metadata": {},
   "outputs": [
    {
     "data": {
      "image/png": "[encoded data removed]",
      "text/plain": [
       "<Figure size 576x576 with 1 Axes>"
      ]
     },
     "metadata": {},
     "output_type": "display_data"
    }
   ],
   "source": [
    "#строю круговую диаграмму\n",
    "data_users['city'].value_counts().plot(kind='pie', figsize=(8, 8), autopct='%1.1f%%')\n",
    "plt.title('Распределение пользователей по городам')\n",
    "plt.ylabel('')\n",
    "plt.show()"
   ]
  },
  {
   "cell_type": "code",
   "execution_count": 18,
   "id": "3458b62a",
   "metadata": {},
   "outputs": [
    {
     "data": {
      "image/png": "[encoded data removed]",
      "text/plain": [
       "<Figure size 864x432 with 1 Axes>"
      ]
     },
     "metadata": {
      "needs_background": "light"
     },
     "output_type": "display_data"
    }
   ],
   "source": [
    "# Построение столбчатой диаграммы\n",
    "plt.figure(figsize=(12, 6))\n",
    "data_users['city'].value_counts().plot(kind='bar')\n",
    "plt.title('Распределение пользователей по городам')\n",
    "plt.xlabel('Города')\n",
    "plt.ylabel('Количество поездок')\n",
    "plt.xticks(rotation=45)\n",
    "plt.tight_layout()  # Уменьшает отступы\n",
    "plt.show()"
   ]
  },
  {
   "cell_type": "markdown",
   "id": "34e57769",
   "metadata": {},
   "source": [
    "Исходя из данных диаграмм количество пользователей распределилось почти равномерно между восьмью городами. Наибольшее количество пользователей в Пятигорске (14,3%), наименьшее в Москве (11%)"
   ]
  },
  {
   "cell_type": "markdown",
   "id": "1c1440a3",
   "metadata": {},
   "source": [
    "**Соотношение пользователей с подпиской и без подписки**"
   ]
  },
  {
   "cell_type": "code",
   "execution_count": 19,
   "id": "e2d6062f",
   "metadata": {},
   "outputs": [
    {
     "data": {
      "text/plain": [
       "free     835\n",
       "ultra    699\n",
       "Name: subscription_type, dtype: int64"
      ]
     },
     "execution_count": 19,
     "metadata": {},
     "output_type": "execute_result"
    }
   ],
   "source": [
    "data_users['subscription_type'].value_counts() #вывожу количество пользователей с подписками и без"
   ]
  },
  {
   "cell_type": "code",
   "execution_count": 20,
   "id": "fadfde0d",
   "metadata": {},
   "outputs": [
    {
     "data": {
      "image/png": "[encoded data removed]",
      "text/plain": [
       "<Figure size 576x576 with 1 Axes>"
      ]
     },
     "metadata": {},
     "output_type": "display_data"
    }
   ],
   "source": [
    "#строю круговую диаграмму\n",
    "data_users['subscription_type'].value_counts().plot(kind='pie', figsize=(8, 8), autopct='%1.1f%%')\n",
    "plt.title('Соотношение пользователей с подпиской и без подписки')\n",
    "plt.ylabel('')\n",
    "plt.show()"
   ]
  },
  {
   "cell_type": "markdown",
   "id": "ea53723c",
   "metadata": {},
   "source": [
    "Согласно диаграмме среди пользователей 54,4% не имеют подписки, а 45,6% оплачивают подписку"
   ]
  },
  {
   "cell_type": "markdown",
   "id": "2b619fc9",
   "metadata": {},
   "source": [
    "**Возраст пользователей**"
   ]
  },
  {
   "cell_type": "code",
   "execution_count": 21,
   "id": "d9482cd2",
   "metadata": {},
   "outputs": [
    {
     "data": {
      "text/plain": [
       "count    1534.000000\n",
       "mean       24.903520\n",
       "std         4.572367\n",
       "min        12.000000\n",
       "25%        22.000000\n",
       "50%        25.000000\n",
       "75%        28.000000\n",
       "max        43.000000\n",
       "Name: age, dtype: float64"
      ]
     },
     "execution_count": 21,
     "metadata": {},
     "output_type": "execute_result"
    }
   ],
   "source": [
    "data_users['age'].describe()#вывожу статистику для столбца age"
   ]
  },
  {
   "cell_type": "code",
   "execution_count": 22,
   "id": "1ee06257",
   "metadata": {},
   "outputs": [
    {
     "data": {
      "image/png": "[encoded data removed]",
      "text/plain": [
       "<Figure size 432x288 with 1 Axes>"
      ]
     },
     "metadata": {
      "needs_background": "light"
     },
     "output_type": "display_data"
    }
   ],
   "source": [
    "plt.hist(data_users['age'], bins = 30)\n",
    "plt.title('Возраст пользователей')\n",
    "plt.xlabel('Возраст')\n",
    "plt.ylabel('Количество пользователей')\n",
    "plt.grid()\n",
    "plt.show()"
   ]
  },
  {
   "cell_type": "markdown",
   "id": "aedadaf2",
   "metadata": {},
   "source": [
    "В основном, сервисом пользуются люди в возрасте от 23 до 28 лет. Больше всего пользователей 25 лет"
   ]
  },
  {
   "cell_type": "markdown",
   "id": "d20ade76",
   "metadata": {},
   "source": [
    "**Расстояние, которое пользователь преодолел за одну поездку**"
   ]
  },
  {
   "cell_type": "code",
   "execution_count": 23,
   "id": "81879c95",
   "metadata": {
    "scrolled": true
   },
   "outputs": [
    {
     "data": {
      "text/plain": [
       "count    18068.000000\n",
       "mean      3070.659010\n",
       "std       1116.832209\n",
       "min          1.000000\n",
       "25%       2543.000000\n",
       "50%       3134.000000\n",
       "75%       3776.000000\n",
       "max       7211.000000\n",
       "Name: distance, dtype: float64"
      ]
     },
     "execution_count": 23,
     "metadata": {},
     "output_type": "execute_result"
    }
   ],
   "source": [
    "data_rides['distance'].describe() #вывожу статистику для столбца distance"
   ]
  },
  {
   "cell_type": "code",
   "execution_count": 24,
   "id": "babc2de1",
   "metadata": {},
   "outputs": [],
   "source": [
    "#создаю функцию для построения гистограммы для расстояния одной поездки\n",
    "def distance_hist(data, bins):\n",
    "# построение гистограммы\n",
    "    plt.hist(data, bins = bins)\n",
    "    plt.title('Расстояние одной поездки')\n",
    "    plt.xlabel('Расстояние, м')\n",
    "    plt.ylabel('Количество поездок')\n",
    "    plt.grid()\n",
    "    plt.show()"
   ]
  },
  {
   "cell_type": "code",
   "execution_count": 25,
   "id": "3b476e51",
   "metadata": {},
   "outputs": [
    {
     "data": {
      "image/png": "[encoded data removed]",
      "text/plain": [
       "<Figure size 432x288 with 1 Axes>"
      ]
     },
     "metadata": {
      "needs_background": "light"
     },
     "output_type": "display_data"
    }
   ],
   "source": [
    "distance_hist(data_rides['distance'], 30)"
   ]
  },
  {
   "cell_type": "markdown",
   "id": "43c6d1cd",
   "metadata": {},
   "source": [
    "В основном пользователи проезжают от 2 до 5 км. Медианное значение равно 3 км."
   ]
  },
  {
   "cell_type": "markdown",
   "id": "d232a774",
   "metadata": {},
   "source": [
    "**Продолжительность поездок**"
   ]
  },
  {
   "cell_type": "code",
   "execution_count": 26,
   "id": "ecb7e532",
   "metadata": {
    "scrolled": true
   },
   "outputs": [
    {
     "data": {
      "text/plain": [
       "count    18068.000000\n",
       "mean        17.895334\n",
       "std          5.959714\n",
       "min          2.035632\n",
       "25%         13.697117\n",
       "50%         17.679120\n",
       "75%         21.724800\n",
       "max         40.823963\n",
       "Name: duration, dtype: float64"
      ]
     },
     "execution_count": 26,
     "metadata": {},
     "output_type": "execute_result"
    }
   ],
   "source": [
    "data_rides['duration'].describe() #вывожу статистику для столбца duration"
   ]
  },
  {
   "cell_type": "code",
   "execution_count": 27,
   "id": "20796928",
   "metadata": {},
   "outputs": [],
   "source": [
    "#создаю функцию для построения гистограммы для продолжительности одной поездки\n",
    "def duration_hist(data, bins):\n",
    "\n",
    "    # Построение гистограммы \n",
    "    plt.hist(data, bins = bins)\n",
    "    plt.title('Продолжительность одной поездки')\n",
    "    plt.xlabel('Время, мин')\n",
    "    plt.ylabel('Количество поездок')\n",
    "    plt.grid()\n",
    "    plt.show()"
   ]
  },
  {
   "cell_type": "code",
   "execution_count": 28,
   "id": "fbebbf6d",
   "metadata": {},
   "outputs": [
    {
     "data": {
      "image/png": "[encoded data removed]",
      "text/plain": [
       "<Figure size 432x288 with 1 Axes>"
      ]
     },
     "metadata": {
      "needs_background": "light"
     },
     "output_type": "display_data"
    }
   ],
   "source": [
    "duration_hist(data_rides['duration'], 20)"
   ]
  },
  {
   "cell_type": "markdown",
   "id": "19ef2de8",
   "metadata": {},
   "source": [
    "Все поездки длятся не больше 40 мин. Половина всех поездок занимает от 13 до 21 минуты"
   ]
  },
  {
   "cell_type": "markdown",
   "id": "738b6b97",
   "metadata": {},
   "source": [
    "**Выводы:**\n",
    "1. Количество пользователей распределилось почти равномерно между восьмью городами. Наибольшее количество пользователей в Пятигорске (14,3%), наименьшее в Москве (11%)\n",
    "2.54,4% пользователей не имеют подписки, а 45,6% оплачивают подписку\n",
    "3. В основном, сервисом пользуются люди в возрасте от 23 до 28 лет. Больше всего пользователей 25 лет\n",
    "4. В основном пользователи проезжают от 2 до 5 км. Медианное значение равно 3 км.\n",
    "5.Длительность поездки состовляет 13 - 22 минут"
   ]
  },
  {
   "cell_type": "markdown",
   "id": "4ef51331",
   "metadata": {},
   "source": [
    "#### Шаг 4. Объединение данных"
   ]
  },
  {
   "cell_type": "code",
   "execution_count": 29,
   "id": "00cfd6d3",
   "metadata": {},
   "outputs": [
    {
     "name": "stdout",
     "output_type": "stream",
     "text": [
      "Размерность data_users: (1534, 5)\n",
      "Размерность data_subscriptions: (2, 4)\n",
      "Размерность data_rides: (18068, 5)\n"
     ]
    }
   ],
   "source": [
    "#смотрю размерность таблиц\n",
    "print(\"Размерность data_users:\", data_users.shape)\n",
    "print(\"Размерность data_subscriptions:\", data_subscriptions.shape)\n",
    "print(\"Размерность data_rides:\", data_rides.shape)"
   ]
  },
  {
   "cell_type": "code",
   "execution_count": 30,
   "id": "24100205",
   "metadata": {},
   "outputs": [
    {
     "data": {
      "text/html": [
       "<div>\n",
       "<style scoped>\n",
       "    .dataframe tbody tr th:only-of-type {\n",
       "        vertical-align: middle;\n",
       "    }\n",
       "\n",
       "    .dataframe tbody tr th {\n",
       "        vertical-align: top;\n",
       "    }\n",
       "\n",
       "    .dataframe thead th {\n",
       "        text-align: right;\n",
       "    }\n",
       "</style>\n",
       "<table border=\"1\" class=\"dataframe\">\n",
       "  <thead>\n",
       "    <tr style=\"text-align: right;\">\n",
       "      <th></th>\n",
       "      <th>user_id</th>\n",
       "      <th>name</th>\n",
       "      <th>age</th>\n",
       "      <th>city</th>\n",
       "      <th>subscription_type</th>\n",
       "      <th>minute_price</th>\n",
       "      <th>start_ride_price</th>\n",
       "      <th>subscription_fee</th>\n",
       "      <th>distance</th>\n",
       "      <th>duration</th>\n",
       "      <th>date</th>\n",
       "      <th>month</th>\n",
       "    </tr>\n",
       "  </thead>\n",
       "  <tbody>\n",
       "    <tr>\n",
       "      <th>0</th>\n",
       "      <td>1</td>\n",
       "      <td>Кира</td>\n",
       "      <td>22</td>\n",
       "      <td>Тюмень</td>\n",
       "      <td>ultra</td>\n",
       "      <td>6</td>\n",
       "      <td>0</td>\n",
       "      <td>199</td>\n",
       "      <td>4410.0</td>\n",
       "      <td>25.599769</td>\n",
       "      <td>2021-01-01</td>\n",
       "      <td>1</td>\n",
       "    </tr>\n",
       "    <tr>\n",
       "      <th>1</th>\n",
       "      <td>1</td>\n",
       "      <td>Кира</td>\n",
       "      <td>22</td>\n",
       "      <td>Тюмень</td>\n",
       "      <td>ultra</td>\n",
       "      <td>6</td>\n",
       "      <td>0</td>\n",
       "      <td>199</td>\n",
       "      <td>2618.0</td>\n",
       "      <td>15.816871</td>\n",
       "      <td>2021-01-18</td>\n",
       "      <td>1</td>\n",
       "    </tr>\n",
       "    <tr>\n",
       "      <th>2</th>\n",
       "      <td>1</td>\n",
       "      <td>Кира</td>\n",
       "      <td>22</td>\n",
       "      <td>Тюмень</td>\n",
       "      <td>ultra</td>\n",
       "      <td>6</td>\n",
       "      <td>0</td>\n",
       "      <td>199</td>\n",
       "      <td>754.0</td>\n",
       "      <td>6.232113</td>\n",
       "      <td>2021-04-20</td>\n",
       "      <td>4</td>\n",
       "    </tr>\n",
       "    <tr>\n",
       "      <th>3</th>\n",
       "      <td>1</td>\n",
       "      <td>Кира</td>\n",
       "      <td>22</td>\n",
       "      <td>Тюмень</td>\n",
       "      <td>ultra</td>\n",
       "      <td>6</td>\n",
       "      <td>0</td>\n",
       "      <td>199</td>\n",
       "      <td>2695.0</td>\n",
       "      <td>18.511000</td>\n",
       "      <td>2021-08-11</td>\n",
       "      <td>8</td>\n",
       "    </tr>\n",
       "    <tr>\n",
       "      <th>4</th>\n",
       "      <td>1</td>\n",
       "      <td>Кира</td>\n",
       "      <td>22</td>\n",
       "      <td>Тюмень</td>\n",
       "      <td>ultra</td>\n",
       "      <td>6</td>\n",
       "      <td>0</td>\n",
       "      <td>199</td>\n",
       "      <td>4029.0</td>\n",
       "      <td>26.265803</td>\n",
       "      <td>2021-08-28</td>\n",
       "      <td>8</td>\n",
       "    </tr>\n",
       "  </tbody>\n",
       "</table>\n",
       "</div>"
      ],
      "text/plain": [
       "   user_id  name  age    city subscription_type  minute_price  \\\n",
       "0        1  Кира   22  Тюмень             ultra             6   \n",
       "1        1  Кира   22  Тюмень             ultra             6   \n",
       "2        1  Кира   22  Тюмень             ultra             6   \n",
       "3        1  Кира   22  Тюмень             ultra             6   \n",
       "4        1  Кира   22  Тюмень             ultra             6   \n",
       "\n",
       "   start_ride_price  subscription_fee  distance   duration       date  month  \n",
       "0                 0               199    4410.0  25.599769 2021-01-01      1  \n",
       "1                 0               199    2618.0  15.816871 2021-01-18      1  \n",
       "2                 0               199     754.0   6.232113 2021-04-20      4  \n",
       "3                 0               199    2695.0  18.511000 2021-08-11      8  \n",
       "4                 0               199    4029.0  26.265803 2021-08-28      8  "
      ]
     },
     "metadata": {},
     "output_type": "display_data"
    }
   ],
   "source": [
    "# Объединеняю данные пользователей и подписок\n",
    "merged_users_subscriptions = data_users.merge(data_subscriptions, on='subscription_type', how='left')\n",
    "\n",
    "# Объединяю с данными о поездках\n",
    "full_data = merged_users_subscriptions.merge(data_rides, on='user_id', how='left')\n",
    "\n",
    "display(full_data.head())"
   ]
  },
  {
   "cell_type": "code",
   "execution_count": 31,
   "id": "7720d2de",
   "metadata": {},
   "outputs": [
    {
     "name": "stdout",
     "output_type": "stream",
     "text": [
      "Размерность объединенной таблицы: (18068, 12)\n"
     ]
    }
   ],
   "source": [
    "print(\"Размерность объединенной таблицы:\", full_data.shape)"
   ]
  },
  {
   "cell_type": "markdown",
   "id": "f2342a17",
   "metadata": {},
   "source": [
    "Размерность объединенной таблицы совпадает с размерностью data_rides"
   ]
  },
  {
   "cell_type": "code",
   "execution_count": 32,
   "id": "6d52b6d8",
   "metadata": {},
   "outputs": [
    {
     "name": "stdout",
     "output_type": "stream",
     "text": [
      "Количество пропусков в объединенном датасете:\n",
      " user_id              0\n",
      "name                 0\n",
      "age                  0\n",
      "city                 0\n",
      "subscription_type    0\n",
      "minute_price         0\n",
      "start_ride_price     0\n",
      "subscription_fee     0\n",
      "distance             0\n",
      "duration             0\n",
      "date                 0\n",
      "month                0\n",
      "dtype: int64\n"
     ]
    }
   ],
   "source": [
    "print(\"Количество пропусков в объединенном датасете:\\n\", full_data.isnull().sum())"
   ]
  },
  {
   "cell_type": "markdown",
   "id": "cb690b77",
   "metadata": {},
   "source": [
    "Пропусков в новой таблице нет"
   ]
  },
  {
   "cell_type": "code",
   "execution_count": 33,
   "id": "6bf288b5",
   "metadata": {},
   "outputs": [
    {
     "data": {
      "text/html": [
       "<div>\n",
       "<style scoped>\n",
       "    .dataframe tbody tr th:only-of-type {\n",
       "        vertical-align: middle;\n",
       "    }\n",
       "\n",
       "    .dataframe tbody tr th {\n",
       "        vertical-align: top;\n",
       "    }\n",
       "\n",
       "    .dataframe thead th {\n",
       "        text-align: right;\n",
       "    }\n",
       "</style>\n",
       "<table border=\"1\" class=\"dataframe\">\n",
       "  <thead>\n",
       "    <tr style=\"text-align: right;\">\n",
       "      <th></th>\n",
       "      <th>user_id</th>\n",
       "      <th>name</th>\n",
       "      <th>age</th>\n",
       "      <th>city</th>\n",
       "      <th>subscription_type</th>\n",
       "      <th>minute_price</th>\n",
       "      <th>start_ride_price</th>\n",
       "      <th>subscription_fee</th>\n",
       "      <th>distance</th>\n",
       "      <th>duration</th>\n",
       "      <th>date</th>\n",
       "      <th>month</th>\n",
       "    </tr>\n",
       "  </thead>\n",
       "  <tbody>\n",
       "    <tr>\n",
       "      <th>6500</th>\n",
       "      <td>700</td>\n",
       "      <td>Айдар</td>\n",
       "      <td>22</td>\n",
       "      <td>Омск</td>\n",
       "      <td>free</td>\n",
       "      <td>8</td>\n",
       "      <td>50</td>\n",
       "      <td>0</td>\n",
       "      <td>2516.0</td>\n",
       "      <td>14.944286</td>\n",
       "      <td>2021-01-02</td>\n",
       "      <td>1</td>\n",
       "    </tr>\n",
       "    <tr>\n",
       "      <th>6501</th>\n",
       "      <td>700</td>\n",
       "      <td>Айдар</td>\n",
       "      <td>22</td>\n",
       "      <td>Омск</td>\n",
       "      <td>free</td>\n",
       "      <td>8</td>\n",
       "      <td>50</td>\n",
       "      <td>0</td>\n",
       "      <td>847.0</td>\n",
       "      <td>16.234663</td>\n",
       "      <td>2021-02-01</td>\n",
       "      <td>2</td>\n",
       "    </tr>\n",
       "    <tr>\n",
       "      <th>6502</th>\n",
       "      <td>700</td>\n",
       "      <td>Айдар</td>\n",
       "      <td>22</td>\n",
       "      <td>Омск</td>\n",
       "      <td>free</td>\n",
       "      <td>8</td>\n",
       "      <td>50</td>\n",
       "      <td>0</td>\n",
       "      <td>4004.0</td>\n",
       "      <td>20.016628</td>\n",
       "      <td>2021-02-04</td>\n",
       "      <td>2</td>\n",
       "    </tr>\n",
       "    <tr>\n",
       "      <th>6503</th>\n",
       "      <td>700</td>\n",
       "      <td>Айдар</td>\n",
       "      <td>22</td>\n",
       "      <td>Омск</td>\n",
       "      <td>free</td>\n",
       "      <td>8</td>\n",
       "      <td>50</td>\n",
       "      <td>0</td>\n",
       "      <td>1206.0</td>\n",
       "      <td>9.782872</td>\n",
       "      <td>2021-02-10</td>\n",
       "      <td>2</td>\n",
       "    </tr>\n",
       "    <tr>\n",
       "      <th>6504</th>\n",
       "      <td>700</td>\n",
       "      <td>Айдар</td>\n",
       "      <td>22</td>\n",
       "      <td>Омск</td>\n",
       "      <td>free</td>\n",
       "      <td>8</td>\n",
       "      <td>50</td>\n",
       "      <td>0</td>\n",
       "      <td>3047.0</td>\n",
       "      <td>17.427673</td>\n",
       "      <td>2021-02-14</td>\n",
       "      <td>2</td>\n",
       "    </tr>\n",
       "  </tbody>\n",
       "</table>\n",
       "</div>"
      ],
      "text/plain": [
       "      user_id   name  age  city subscription_type  minute_price  \\\n",
       "6500      700  Айдар   22  Омск              free             8   \n",
       "6501      700  Айдар   22  Омск              free             8   \n",
       "6502      700  Айдар   22  Омск              free             8   \n",
       "6503      700  Айдар   22  Омск              free             8   \n",
       "6504      700  Айдар   22  Омск              free             8   \n",
       "\n",
       "      start_ride_price  subscription_fee  distance   duration       date  \\\n",
       "6500                50                 0    2516.0  14.944286 2021-01-02   \n",
       "6501                50                 0     847.0  16.234663 2021-02-01   \n",
       "6502                50                 0    4004.0  20.016628 2021-02-04   \n",
       "6503                50                 0    1206.0   9.782872 2021-02-10   \n",
       "6504                50                 0    3047.0  17.427673 2021-02-14   \n",
       "\n",
       "      month  \n",
       "6500      1  \n",
       "6501      2  \n",
       "6502      2  \n",
       "6503      2  \n",
       "6504      2  "
      ]
     },
     "execution_count": 33,
     "metadata": {},
     "output_type": "execute_result"
    }
   ],
   "source": [
    "# создаю датафрейм с пользователями с подпиской \"free\"\n",
    "users_free_subscription = full_data[full_data['subscription_type'] == 'free']\n",
    "users_free_subscription.head()"
   ]
  },
  {
   "cell_type": "code",
   "execution_count": 34,
   "id": "86159e11",
   "metadata": {},
   "outputs": [
    {
     "data": {
      "text/html": [
       "<div>\n",
       "<style scoped>\n",
       "    .dataframe tbody tr th:only-of-type {\n",
       "        vertical-align: middle;\n",
       "    }\n",
       "\n",
       "    .dataframe tbody tr th {\n",
       "        vertical-align: top;\n",
       "    }\n",
       "\n",
       "    .dataframe thead th {\n",
       "        text-align: right;\n",
       "    }\n",
       "</style>\n",
       "<table border=\"1\" class=\"dataframe\">\n",
       "  <thead>\n",
       "    <tr style=\"text-align: right;\">\n",
       "      <th></th>\n",
       "      <th>user_id</th>\n",
       "      <th>name</th>\n",
       "      <th>age</th>\n",
       "      <th>city</th>\n",
       "      <th>subscription_type</th>\n",
       "      <th>minute_price</th>\n",
       "      <th>start_ride_price</th>\n",
       "      <th>subscription_fee</th>\n",
       "      <th>distance</th>\n",
       "      <th>duration</th>\n",
       "      <th>date</th>\n",
       "      <th>month</th>\n",
       "    </tr>\n",
       "  </thead>\n",
       "  <tbody>\n",
       "    <tr>\n",
       "      <th>0</th>\n",
       "      <td>1</td>\n",
       "      <td>Кира</td>\n",
       "      <td>22</td>\n",
       "      <td>Тюмень</td>\n",
       "      <td>ultra</td>\n",
       "      <td>6</td>\n",
       "      <td>0</td>\n",
       "      <td>199</td>\n",
       "      <td>4410.0</td>\n",
       "      <td>25.599769</td>\n",
       "      <td>2021-01-01</td>\n",
       "      <td>1</td>\n",
       "    </tr>\n",
       "    <tr>\n",
       "      <th>1</th>\n",
       "      <td>1</td>\n",
       "      <td>Кира</td>\n",
       "      <td>22</td>\n",
       "      <td>Тюмень</td>\n",
       "      <td>ultra</td>\n",
       "      <td>6</td>\n",
       "      <td>0</td>\n",
       "      <td>199</td>\n",
       "      <td>2618.0</td>\n",
       "      <td>15.816871</td>\n",
       "      <td>2021-01-18</td>\n",
       "      <td>1</td>\n",
       "    </tr>\n",
       "    <tr>\n",
       "      <th>2</th>\n",
       "      <td>1</td>\n",
       "      <td>Кира</td>\n",
       "      <td>22</td>\n",
       "      <td>Тюмень</td>\n",
       "      <td>ultra</td>\n",
       "      <td>6</td>\n",
       "      <td>0</td>\n",
       "      <td>199</td>\n",
       "      <td>754.0</td>\n",
       "      <td>6.232113</td>\n",
       "      <td>2021-04-20</td>\n",
       "      <td>4</td>\n",
       "    </tr>\n",
       "    <tr>\n",
       "      <th>3</th>\n",
       "      <td>1</td>\n",
       "      <td>Кира</td>\n",
       "      <td>22</td>\n",
       "      <td>Тюмень</td>\n",
       "      <td>ultra</td>\n",
       "      <td>6</td>\n",
       "      <td>0</td>\n",
       "      <td>199</td>\n",
       "      <td>2695.0</td>\n",
       "      <td>18.511000</td>\n",
       "      <td>2021-08-11</td>\n",
       "      <td>8</td>\n",
       "    </tr>\n",
       "    <tr>\n",
       "      <th>4</th>\n",
       "      <td>1</td>\n",
       "      <td>Кира</td>\n",
       "      <td>22</td>\n",
       "      <td>Тюмень</td>\n",
       "      <td>ultra</td>\n",
       "      <td>6</td>\n",
       "      <td>0</td>\n",
       "      <td>199</td>\n",
       "      <td>4029.0</td>\n",
       "      <td>26.265803</td>\n",
       "      <td>2021-08-28</td>\n",
       "      <td>8</td>\n",
       "    </tr>\n",
       "  </tbody>\n",
       "</table>\n",
       "</div>"
      ],
      "text/plain": [
       "   user_id  name  age    city subscription_type  minute_price  \\\n",
       "0        1  Кира   22  Тюмень             ultra             6   \n",
       "1        1  Кира   22  Тюмень             ultra             6   \n",
       "2        1  Кира   22  Тюмень             ultra             6   \n",
       "3        1  Кира   22  Тюмень             ultra             6   \n",
       "4        1  Кира   22  Тюмень             ultra             6   \n",
       "\n",
       "   start_ride_price  subscription_fee  distance   duration       date  month  \n",
       "0                 0               199    4410.0  25.599769 2021-01-01      1  \n",
       "1                 0               199    2618.0  15.816871 2021-01-18      1  \n",
       "2                 0               199     754.0   6.232113 2021-04-20      4  \n",
       "3                 0               199    2695.0  18.511000 2021-08-11      8  \n",
       "4                 0               199    4029.0  26.265803 2021-08-28      8  "
      ]
     },
     "execution_count": 34,
     "metadata": {},
     "output_type": "execute_result"
    }
   ],
   "source": [
    "# создаю датафрейм с пользователями с подпиской \"ultra\"\n",
    "users_ultra_subscription = full_data[full_data['subscription_type'] == 'ultra']\n",
    "users_ultra_subscription.head()"
   ]
  },
  {
   "cell_type": "markdown",
   "id": "fb2f0725",
   "metadata": {},
   "source": [
    "**Расстояние и время одной поездки в зависимости от типа подписки**"
   ]
  },
  {
   "cell_type": "markdown",
   "id": "3dc7c623",
   "metadata": {},
   "source": [
    "Без подписки:"
   ]
  },
  {
   "cell_type": "code",
   "execution_count": 35,
   "id": "ea7da704",
   "metadata": {},
   "outputs": [
    {
     "data": {
      "image/png": "[encoded data removed]",
      "text/plain": [
       "<Figure size 432x288 with 1 Axes>"
      ]
     },
     "metadata": {
      "needs_background": "light"
     },
     "output_type": "display_data"
    }
   ],
   "source": [
    "distance_hist(users_free_subscription['distance'], 30) "
   ]
  },
  {
   "cell_type": "code",
   "execution_count": 36,
   "id": "17d4900b",
   "metadata": {},
   "outputs": [
    {
     "data": {
      "image/png": "[encoded data removed]",
      "text/plain": [
       "<Figure size 432x288 with 1 Axes>"
      ]
     },
     "metadata": {
      "needs_background": "light"
     },
     "output_type": "display_data"
    }
   ],
   "source": [
    "duration_hist(users_free_subscription['duration'], 20)"
   ]
  },
  {
   "cell_type": "markdown",
   "id": "ceebc731",
   "metadata": {},
   "source": [
    "С подпиской:"
   ]
  },
  {
   "cell_type": "code",
   "execution_count": 37,
   "id": "bacb395c",
   "metadata": {},
   "outputs": [
    {
     "data": {
      "image/png": "[encoded data removed]",
      "text/plain": [
       "<Figure size 432x288 with 1 Axes>"
      ]
     },
     "metadata": {
      "needs_background": "light"
     },
     "output_type": "display_data"
    }
   ],
   "source": [
    "distance_hist(users_ultra_subscription['distance'], 30)"
   ]
  },
  {
   "cell_type": "code",
   "execution_count": 38,
   "id": "d84be923",
   "metadata": {},
   "outputs": [
    {
     "data": {
      "image/png": "[encoded data removed]",
      "text/plain": [
       "<Figure size 432x288 with 1 Axes>"
      ]
     },
     "metadata": {
      "needs_background": "light"
     },
     "output_type": "display_data"
    }
   ],
   "source": [
    "duration_hist(users_ultra_subscription['duration'], 20)"
   ]
  },
  {
   "cell_type": "markdown",
   "id": "6c7e88ba",
   "metadata": {},
   "source": [
    "**Выводы:**\n",
    "\n",
    "Объединили данные о пользователях, поездках и тарифах в один датафрейм, который назвали full_data.\n",
    "\n",
    "Из полученного датафрейма мы выделили две группы:\n",
    "\n",
    "users_free_subscription — информация о пользователях, у которых активирован бесплатный тариф.\n",
    "users_ultra_subscription — информация о пользователях, пользующихся платным тарифом.\n",
    "Визуализировали данные о расстоянии и времени поездок для каждой из тарифных категорий.\n",
    "\n",
    "По данным бесплатного тарифа, время поездки варьируется от 10 до 30 минут, а расстояние составляет от 2 до 5 км. Кроме того, некоторые пользователи преодолевают расстояния до 6 и 6,5 км.\n",
    "\n",
    "Что касается платного тарифа, то среднее время поездки в основном находится в диапазоне от 15 до 25 минут, а максимальные расстояния фиксируются примерно на уровне 3 км.\n",
    "\n",
    "Таким образом, можно сделать вывод, что пользователи с бесплатным тарифом в общем совершают более длительные поездки и проезжают большее расстояние по сравнению с пользователями платного тарифа."
   ]
  },
  {
   "cell_type": "markdown",
   "id": "402d620f",
   "metadata": {},
   "source": [
    "#### Шаг 5. Подсчёт выручки"
   ]
  },
  {
   "cell_type": "markdown",
   "id": "9ce430bf",
   "metadata": {},
   "source": [
    "Создадим датафрейм с агрегированными данными о поездках для каждого пользователя за каждый месяц."
   ]
  },
  {
   "cell_type": "code",
   "execution_count": 39,
   "id": "ae37e75c",
   "metadata": {},
   "outputs": [
    {
     "name": "stdout",
     "output_type": "stream",
     "text": [
      "Агрегированные данные о поездках:\n"
     ]
    },
    {
     "data": {
      "text/html": [
       "<div>\n",
       "<style scoped>\n",
       "    .dataframe tbody tr th:only-of-type {\n",
       "        vertical-align: middle;\n",
       "    }\n",
       "\n",
       "    .dataframe tbody tr th {\n",
       "        vertical-align: top;\n",
       "    }\n",
       "\n",
       "    .dataframe thead th {\n",
       "        text-align: right;\n",
       "    }\n",
       "</style>\n",
       "<table border=\"1\" class=\"dataframe\">\n",
       "  <thead>\n",
       "    <tr style=\"text-align: right;\">\n",
       "      <th></th>\n",
       "      <th>user_id</th>\n",
       "      <th>month</th>\n",
       "      <th>subscription_type</th>\n",
       "      <th>total_distance</th>\n",
       "      <th>total_trips</th>\n",
       "      <th>total_time</th>\n",
       "    </tr>\n",
       "  </thead>\n",
       "  <tbody>\n",
       "    <tr>\n",
       "      <th>0</th>\n",
       "      <td>1</td>\n",
       "      <td>1</td>\n",
       "      <td>ultra</td>\n",
       "      <td>7028.0</td>\n",
       "      <td>2</td>\n",
       "      <td>41.416640</td>\n",
       "    </tr>\n",
       "    <tr>\n",
       "      <th>1</th>\n",
       "      <td>1</td>\n",
       "      <td>4</td>\n",
       "      <td>ultra</td>\n",
       "      <td>754.0</td>\n",
       "      <td>1</td>\n",
       "      <td>6.232113</td>\n",
       "    </tr>\n",
       "    <tr>\n",
       "      <th>2</th>\n",
       "      <td>1</td>\n",
       "      <td>8</td>\n",
       "      <td>ultra</td>\n",
       "      <td>6724.0</td>\n",
       "      <td>2</td>\n",
       "      <td>44.776802</td>\n",
       "    </tr>\n",
       "    <tr>\n",
       "      <th>3</th>\n",
       "      <td>1</td>\n",
       "      <td>10</td>\n",
       "      <td>ultra</td>\n",
       "      <td>5810.0</td>\n",
       "      <td>2</td>\n",
       "      <td>31.578017</td>\n",
       "    </tr>\n",
       "    <tr>\n",
       "      <th>4</th>\n",
       "      <td>1</td>\n",
       "      <td>11</td>\n",
       "      <td>ultra</td>\n",
       "      <td>7004.0</td>\n",
       "      <td>3</td>\n",
       "      <td>53.397424</td>\n",
       "    </tr>\n",
       "  </tbody>\n",
       "</table>\n",
       "</div>"
      ],
      "text/plain": [
       "   user_id  month subscription_type  total_distance  total_trips  total_time\n",
       "0        1      1             ultra          7028.0            2   41.416640\n",
       "1        1      4             ultra           754.0            1    6.232113\n",
       "2        1      8             ultra          6724.0            2   44.776802\n",
       "3        1     10             ultra          5810.0            2   31.578017\n",
       "4        1     11             ultra          7004.0            3   53.397424"
      ]
     },
     "execution_count": 39,
     "metadata": {},
     "output_type": "execute_result"
    }
   ],
   "source": [
    "aggregated_data = full_data.groupby(['user_id', 'month', 'subscription_type']).agg(\n",
    "    total_distance=('distance', 'sum'),           # суммарное расстояние\n",
    "    total_trips=('distance', 'count'),            # количество поездок\n",
    "    total_time=('duration', 'sum')                    # суммарное время\n",
    ").reset_index()\n",
    "\n",
    "# вывожу агрегированный датафрейм\n",
    "print(\"Агрегированные данные о поездках:\")\n",
    "aggregated_data.head()"
   ]
  },
  {
   "cell_type": "markdown",
   "id": "55f349c8",
   "metadata": {},
   "source": [
    "Добавим столбец с помесячной выручкой, которую принёс каждый пользователь."
   ]
  },
  {
   "cell_type": "code",
   "execution_count": 40,
   "id": "9c9fd688",
   "metadata": {},
   "outputs": [
    {
     "data": {
      "text/html": [
       "<div>\n",
       "<style scoped>\n",
       "    .dataframe tbody tr th:only-of-type {\n",
       "        vertical-align: middle;\n",
       "    }\n",
       "\n",
       "    .dataframe tbody tr th {\n",
       "        vertical-align: top;\n",
       "    }\n",
       "\n",
       "    .dataframe thead th {\n",
       "        text-align: right;\n",
       "    }\n",
       "</style>\n",
       "<table border=\"1\" class=\"dataframe\">\n",
       "  <thead>\n",
       "    <tr style=\"text-align: right;\">\n",
       "      <th></th>\n",
       "      <th>user_id</th>\n",
       "      <th>month</th>\n",
       "      <th>subscription_type</th>\n",
       "      <th>total_distance</th>\n",
       "      <th>total_trips</th>\n",
       "      <th>total_time</th>\n",
       "      <th>revenue</th>\n",
       "    </tr>\n",
       "  </thead>\n",
       "  <tbody>\n",
       "    <tr>\n",
       "      <th>0</th>\n",
       "      <td>1</td>\n",
       "      <td>1</td>\n",
       "      <td>ultra</td>\n",
       "      <td>7028.0</td>\n",
       "      <td>2</td>\n",
       "      <td>41.416640</td>\n",
       "      <td>447.499843</td>\n",
       "    </tr>\n",
       "    <tr>\n",
       "      <th>1</th>\n",
       "      <td>1</td>\n",
       "      <td>4</td>\n",
       "      <td>ultra</td>\n",
       "      <td>754.0</td>\n",
       "      <td>1</td>\n",
       "      <td>6.232113</td>\n",
       "      <td>236.392681</td>\n",
       "    </tr>\n",
       "    <tr>\n",
       "      <th>2</th>\n",
       "      <td>1</td>\n",
       "      <td>8</td>\n",
       "      <td>ultra</td>\n",
       "      <td>6724.0</td>\n",
       "      <td>2</td>\n",
       "      <td>44.776802</td>\n",
       "      <td>467.660815</td>\n",
       "    </tr>\n",
       "    <tr>\n",
       "      <th>3</th>\n",
       "      <td>1</td>\n",
       "      <td>10</td>\n",
       "      <td>ultra</td>\n",
       "      <td>5810.0</td>\n",
       "      <td>2</td>\n",
       "      <td>31.578017</td>\n",
       "      <td>388.468102</td>\n",
       "    </tr>\n",
       "    <tr>\n",
       "      <th>4</th>\n",
       "      <td>1</td>\n",
       "      <td>11</td>\n",
       "      <td>ultra</td>\n",
       "      <td>7004.0</td>\n",
       "      <td>3</td>\n",
       "      <td>53.397424</td>\n",
       "      <td>519.384541</td>\n",
       "    </tr>\n",
       "    <tr>\n",
       "      <th>...</th>\n",
       "      <td>...</td>\n",
       "      <td>...</td>\n",
       "      <td>...</td>\n",
       "      <td>...</td>\n",
       "      <td>...</td>\n",
       "      <td>...</td>\n",
       "      <td>...</td>\n",
       "    </tr>\n",
       "    <tr>\n",
       "      <th>11326</th>\n",
       "      <td>1534</td>\n",
       "      <td>6</td>\n",
       "      <td>free</td>\n",
       "      <td>3409.0</td>\n",
       "      <td>2</td>\n",
       "      <td>24.812678</td>\n",
       "      <td>298.501421</td>\n",
       "    </tr>\n",
       "    <tr>\n",
       "      <th>11327</th>\n",
       "      <td>1534</td>\n",
       "      <td>8</td>\n",
       "      <td>free</td>\n",
       "      <td>7623.0</td>\n",
       "      <td>2</td>\n",
       "      <td>47.205960</td>\n",
       "      <td>477.647678</td>\n",
       "    </tr>\n",
       "    <tr>\n",
       "      <th>11328</th>\n",
       "      <td>1534</td>\n",
       "      <td>9</td>\n",
       "      <td>free</td>\n",
       "      <td>4928.0</td>\n",
       "      <td>1</td>\n",
       "      <td>22.560373</td>\n",
       "      <td>230.482980</td>\n",
       "    </tr>\n",
       "    <tr>\n",
       "      <th>11329</th>\n",
       "      <td>1534</td>\n",
       "      <td>11</td>\n",
       "      <td>free</td>\n",
       "      <td>13349.0</td>\n",
       "      <td>4</td>\n",
       "      <td>76.342174</td>\n",
       "      <td>810.737395</td>\n",
       "    </tr>\n",
       "    <tr>\n",
       "      <th>11330</th>\n",
       "      <td>1534</td>\n",
       "      <td>12</td>\n",
       "      <td>free</td>\n",
       "      <td>2372.0</td>\n",
       "      <td>1</td>\n",
       "      <td>15.893917</td>\n",
       "      <td>177.151336</td>\n",
       "    </tr>\n",
       "  </tbody>\n",
       "</table>\n",
       "<p>11331 rows × 7 columns</p>\n",
       "</div>"
      ],
      "text/plain": [
       "       user_id  month subscription_type  total_distance  total_trips  \\\n",
       "0            1      1             ultra          7028.0            2   \n",
       "1            1      4             ultra           754.0            1   \n",
       "2            1      8             ultra          6724.0            2   \n",
       "3            1     10             ultra          5810.0            2   \n",
       "4            1     11             ultra          7004.0            3   \n",
       "...        ...    ...               ...             ...          ...   \n",
       "11326     1534      6              free          3409.0            2   \n",
       "11327     1534      8              free          7623.0            2   \n",
       "11328     1534      9              free          4928.0            1   \n",
       "11329     1534     11              free         13349.0            4   \n",
       "11330     1534     12              free          2372.0            1   \n",
       "\n",
       "       total_time     revenue  \n",
       "0       41.416640  447.499843  \n",
       "1        6.232113  236.392681  \n",
       "2       44.776802  467.660815  \n",
       "3       31.578017  388.468102  \n",
       "4       53.397424  519.384541  \n",
       "...           ...         ...  \n",
       "11326   24.812678  298.501421  \n",
       "11327   47.205960  477.647678  \n",
       "11328   22.560373  230.482980  \n",
       "11329   76.342174  810.737395  \n",
       "11330   15.893917  177.151336  \n",
       "\n",
       "[11331 rows x 7 columns]"
      ]
     },
     "metadata": {},
     "output_type": "display_data"
    }
   ],
   "source": [
    "# функция для расчета выручки\n",
    "def calculate_revenue(row):\n",
    "    if row['subscription_type'] == 'free':\n",
    "        start_cost = 50\n",
    "        minute_cost = 8\n",
    "        subscription_cost = 0\n",
    "    elif row['subscription_type'] == 'ultra':\n",
    "        start_cost = 0\n",
    "        minute_cost = 6\n",
    "        subscription_cost = 199\n",
    "    \n",
    "    revenue = (start_cost * row['total_trips']) + (minute_cost * row['total_time']) + subscription_cost\n",
    "    return revenue\n",
    "\n",
    "# применяю функцию к каждой строке\n",
    "aggregated_data['revenue'] = aggregated_data.apply(calculate_revenue, axis=1)\n",
    "\n",
    "# вывожу датафрейм\n",
    "display(aggregated_data)"
   ]
  },
  {
   "cell_type": "markdown",
   "id": "5761451d",
   "metadata": {},
   "source": [
    "**Заключение:**\n",
    "Создан новый датафрейм с агрегированными данными (aggregated_data) на основе датафрейма с объединенными данными (full_data).\n",
    "\n",
    "Найдено суммарное расстояние, количество поездок и суммарное время для каждого пользователя за каждый месяц. Также добавили столбец с помесячной выручкой, которую принес каждый пользователь."
   ]
  },
  {
   "cell_type": "markdown",
   "id": "41545ac0",
   "metadata": {},
   "source": [
    "#### Шаг 6. Проверка гипотез"
   ]
  },
  {
   "cell_type": "markdown",
   "id": "aba97e89",
   "metadata": {},
   "source": [
    "**Тратят ли пользователи с подпиской больше времени на поездки?**"
   ]
  },
  {
   "cell_type": "markdown",
   "id": "f3c2f64f",
   "metadata": {},
   "source": [
    "Проверим гипотезу: пользователи с подпиской тратят больше времени на поездки, чем пользователи на бесплатном тарифе.\n",
    "\n",
    "H0: Время (duration) пользователей на подписке ultra = время (duration) пользователей без подписки free\n",
    "\n",
    "H1: Время (duration) пользователей на подписке ultra > время (duration) пользователей без подписки free\n",
    "\n",
    "alpha = 0.05"
   ]
  },
  {
   "cell_type": "code",
   "execution_count": 41,
   "id": "dbd2bc90",
   "metadata": {},
   "outputs": [
    {
     "name": "stdout",
     "output_type": "stream",
     "text": [
      "3.3080597507158844e-28\n",
      "Отвергаем нулевую гипотезу\n"
     ]
    }
   ],
   "source": [
    "results = st.ttest_ind(users_ultra_subscription['duration'], \n",
    "                       users_free_subscription['duration'],\n",
    "                       alternative = 'greater')\n",
    "\n",
    "alpha = 0.05\n",
    "\n",
    "print(results.pvalue)\n",
    "\n",
    "if results.pvalue < alpha:\n",
    "    print('Отвергаем нулевую гипотезу')\n",
    "else:\n",
    "    print('Не удалось отвергнуть нулевую гипотезу')"
   ]
  },
  {
   "cell_type": "markdown",
   "id": "0b8d7683",
   "metadata": {},
   "source": [
    "Пользователи с подпиской «выгоднее» для компании, они тратят больше времени на поездки"
   ]
  },
  {
   "cell_type": "markdown",
   "id": "a322d6c3",
   "metadata": {},
   "source": [
    "**Можно ли сказать, что среднее расстояние, которое проезжают пользователи с подпиской за одну поездку, не превышает 3130 метров?**"
   ]
  },
  {
   "cell_type": "markdown",
   "id": "8a49fa45",
   "metadata": {},
   "source": [
    "Проверим гипотезу: реднее расстояние, которое проезжают пользователи с подпиской за одну поездку, не превышает 3130 метров.\n",
    "\n",
    "H0: Расстояние одной поездки (distance) пользователей на подписке ultra <= 3130 м\n",
    "\n",
    "H1: Расстояние одной поездки (distance) пользователей на подписке ultra > 3130 м\n",
    "\n",
    "alpha = 0.05"
   ]
  },
  {
   "cell_type": "code",
   "execution_count": 42,
   "id": "3cbd87a1",
   "metadata": {},
   "outputs": [
    {
     "name": "stdout",
     "output_type": "stream",
     "text": [
      "0.9195649894697724\n",
      "Не удалось отвергнуть нулевую гипотезу\n"
     ]
    }
   ],
   "source": [
    "results = st.ttest_1samp(users_ultra_subscription['distance'], \n",
    "                       3130,\n",
    "                       alternative = 'greater')\n",
    "\n",
    "alpha = 0.05\n",
    "\n",
    "print(results.pvalue)\n",
    "\n",
    "if results.pvalue < alpha:\n",
    "    print('Отвергаем нулевую гипотезу')\n",
    "else:\n",
    "    print('Не удалось отвергнуть нулевую гипотезу')"
   ]
  },
  {
   "cell_type": "markdown",
   "id": "57838c97",
   "metadata": {},
   "source": [
    "Cреднее расстояние поездки, пользователей с подпиской, не превышает оптимальное расстоянием в 3130 м"
   ]
  },
  {
   "cell_type": "markdown",
   "id": "fc46b30c",
   "metadata": {},
   "source": [
    "**Помесячная выручка от пользователей с подпиской по месяцам выше, чем выручка от пользователей без подписки?**"
   ]
  },
  {
   "cell_type": "markdown",
   "id": "7eeeab58",
   "metadata": {},
   "source": [
    "Проверим гипотезу: помесячная выручка от пользователей с подпиской по месяцам выше, чем выручка от пользователей без подписки.\n",
    "\n",
    "H0: Помесячная выручка (revenue) пользователей на подписке ultra <= помесячной выручка (revenue) пользователей без подписки free\n",
    "\n",
    "H1: Помесячная выручка (revenue) пользователей на подписке ultra > помесячной выручка (revenue) пользователей без подписки free\n",
    "\n",
    "alpha = 0.05"
   ]
  },
  {
   "cell_type": "code",
   "execution_count": 43,
   "id": "bc82dfd0",
   "metadata": {},
   "outputs": [
    {
     "name": "stdout",
     "output_type": "stream",
     "text": [
      "1.2806697348843778e-33\n",
      "Отвергаем нулевую гипотезу\n"
     ]
    }
   ],
   "source": [
    "results = st.ttest_ind(aggregated_data.loc[aggregated_data['subscription_type'] == 'ultra', 'revenue'], \n",
    "                       aggregated_data.loc[aggregated_data['subscription_type'] == 'free', 'revenue'],\n",
    "                       alternative = 'greater')\n",
    "\n",
    "alpha = 0.05\n",
    "\n",
    "print(results.pvalue)\n",
    "\n",
    "if results.pvalue < alpha:\n",
    "    print('Отвергаем нулевую гипотезу')\n",
    "else:\n",
    "    print('Не удалось отвергнуть нулевую гипотезу')"
   ]
  },
  {
   "cell_type": "markdown",
   "id": "26f422ce",
   "metadata": {},
   "source": [
    "Есть основания утверждать, что средняя месячная выручка от пользователей с подпиской, больше средней месячной выручки от пользователей без подписки, при установленном уровне значимости в 5 %"
   ]
  },
  {
   "cell_type": "markdown",
   "id": "ecaea048",
   "metadata": {},
   "source": [
    "**Представьте такую ситуацию: техническая команда сервиса обновила сервера, с которыми взаимодействует мобильное приложение. Она надеется, что из-за этого количество обращений в техподдержку значимо снизилось. Некоторый файл содержит для каждого пользователя данные о количестве обращений до обновления и после него. Какой тест вам понадобился бы для проверки этой гипотезы?**"
   ]
  },
  {
   "cell_type": "markdown",
   "id": "13eabcde",
   "metadata": {},
   "source": [
    "Поскольку две выбоки до и после, можно применить scipy.stats.ttest_rel(), и альтернативная гипотеза будет односторонняя alternative='less'"
   ]
  },
  {
   "cell_type": "markdown",
   "id": "8536936a",
   "metadata": {},
   "source": [
    "**Вывод:**\n",
    "\n",
    "Пользователи с подпиской «выгоднее» для компании, они тратят больше времени на поездки и средняя месячная выручка от пользователей с подпиской, больше средней месячной выручки от пользователей без подписки. При этом среднее расстояние поездки, пользователей с подпиской, не превышает оптимальное расстоянием в 3130 м, а значит поездки пользователей с подпиской не приводят к существенному износу самокатов"
   ]
  },
  {
   "cell_type": "markdown",
   "id": "61213c5e",
   "metadata": {},
   "source": [
    "#### Шаг 7. Распределения"
   ]
  },
  {
   "cell_type": "markdown",
   "id": "a8ac1dfe",
   "metadata": {},
   "source": [
    "Отделу маркетинга GoFast поставили задачу: нужно провести акцию с раздачей промокодов на один бесплатный месяц подписки, в рамках которой как минимум \n",
    "100\n",
    "100 существующих клиентов должны продлить эту подписку. То есть по завершении периода действия подписки пользователь может либо отказаться от неё, либо продлить, совершив соответствующий платёж. \n",
    "Эта акция уже проводилась ранее и по итогу выяснилось, что после бесплатного пробного периода подписку продлевают \n",
    "10 % пользователей. Выясните, какое минимальное количество промокодов нужно разослать, чтобы вероятность не выполнить план была примерно \n",
    "5 %. Подберите параметры распределения, описывающего эту ситуацию, постройте график распределения и сформулируйте ответ на вопрос о количестве промокодов."
   ]
  },
  {
   "cell_type": "code",
   "execution_count": 44,
   "id": "fe10415c",
   "metadata": {},
   "outputs": [
    {
     "name": "stdout",
     "output_type": "stream",
     "text": [
      "Необходимое количество промокодов: 1164\n"
     ]
    }
   ],
   "source": [
    "p = 0.1  # вероятность успеха (продление подписки)\n",
    "k = 100  # минимальное количество клиентов, продливших подписку\n",
    "confidence_level = 0.95  # уровень доверия\n",
    "\n",
    "# нахожу Z-критерий для заданного уровня доверия\n",
    "z = st.norm.ppf((1 + confidence_level) / 2)\n",
    "\n",
    "def minimum_n(p, k, z):    \n",
    "    N = k # начальная оценка N\n",
    "    while True:\n",
    "        # вычисляю стандартное отклонение\n",
    "        stddev = np.sqrt(N * p * (1 - p))\n",
    "        # использую нормальное приближение к биномиальному распределению\n",
    "        # вычисляю вероятность P(X >= k)\n",
    "        mean = N * p\n",
    "        prob = 1 - st.norm.cdf(k - 0.5, loc=mean, scale=stddev)\n",
    "        \n",
    "        if prob >= confidence_level:  \n",
    "            break\n",
    "        \n",
    "        N += 1  \n",
    "\n",
    "    return N\n",
    "\n",
    "required_n = minimum_n(p, k, z)\n",
    "print(f\"Необходимое количество промокодов: {required_n}\")"
   ]
  },
  {
   "cell_type": "markdown",
   "id": "c97e21d9",
   "metadata": {},
   "source": [
    "**Вывод:**\n",
    "\n",
    "Для того чтобы как минимум 100 существующих клиентов продлили подписку, необходимо разослать не менее 1164 промокода. При этом вероятность того, что план не будет выполнен, составляет 5%, учитывая, что 10% получивших промокоды продлевают свою подписку."
   ]
  },
  {
   "cell_type": "code",
   "execution_count": 45,
   "id": "cfd1e442",
   "metadata": {},
   "outputs": [
    {
     "name": "stdout",
     "output_type": "stream",
     "text": [
      "Вероятность того, что уведомление откроют не более 399,500 пользователей: 0.1537\n"
     ]
    }
   ],
   "source": [
    "N = 1000000  # общее количество уведомлений\n",
    "p = 0.4      # вероятность, что пользователь открывает уведомление\n",
    "\n",
    "mu = N * p\n",
    "sigma = np.sqrt(N * p * (1 - p))\n",
    "x = 399500\n",
    "\n",
    "z = (x - mu) / sigma\n",
    "\n",
    "probability = norm.cdf(z)\n",
    "\n",
    "print(f\"Вероятность того, что уведомление откроют не более 399,500 пользователей: {probability:.4f}\")"
   ]
  },
  {
   "cell_type": "markdown",
   "id": "09e4ee8e",
   "metadata": {},
   "source": [
    "**Вывод:**\n",
    "\n",
    "Если отправить 1 миллион уведомлений, из которых лишь 40 % клиентов откроют их, вероятность того, что количество открытых уведомлений не превысит 399,5 тысяч пользователей, составит 0,1537 или 15,37 %."
   ]
  },
  {
   "cell_type": "markdown",
   "id": "962013f6",
   "metadata": {},
   "source": [
    "**Общий вывод:**\n",
    "\n",
    "В ходе исследования данных сервиса аренды самокатов GoFast были выполнены следующие этапы, а также сделаны соответствующие выводы:\n",
    "\n",
    "**1. Анализ информации о данных**\n",
    "\n",
    "В данных users_go.csv 1565 строк. Пропуски отсутствуют, количество явных дубликатов 31. В данных rides_go.csv 18068 строк. Пропуски отсутствуют, явных дубликатов не обнаружено. В данных subscriptions_go.csv 2 строки. Пропуски отсутствуют, явных дубликатов нет.\n",
    "\n",
    "**2. Предобработка данных**\n",
    "\n",
    "В процессе предобработки данных были внесены следующие изменения:\n",
    "1. Данные столбца 'date' приведены к типу даты datetime64.\n",
    "2. Устранены дубликаты в таблице data_users.\n",
    "3. Расстояния в столбце 'distance' округлены.\n",
    "4. В столбце 'duration' аномальные значения заменены на медианные.\n",
    "5. В таблице data_rides создан новый столбец 'month' с номером месяца.\n",
    "\n",
    "**3. Исследовательский анализ данных**\n",
    "\n",
    "1. Количество пользователей распределилось почти равномерно между восьмью городами. Наибольшее количество пользователей в Пятигорске (14,3%), наименьшее в Москве (11%)\n",
    "2.54,4% пользователей не имеют подписки, а 45,6% оплачивают подписку\n",
    "3. В основном, сервисом пользуются люди в возрасте от 23 до 28 лет. Больше всего пользователей 25 лет\n",
    "4. В основном пользователи проезжают от 2 до 5 км. Медианное значение равно 3 км.\n",
    "5.Длительность поездки состовляет 13 - 22 минут\n",
    "\n",
    "**4. Объединение данных**\n",
    "\n",
    "Объединили данные о пользователях, поездках и тарифах в один датафрейм, который назвали full_data.\n",
    "\n",
    "Из полученного датафрейма мы выделили две группы:\n",
    "\n",
    "users_free_subscription — информация о пользователях, у которых активирован бесплатный тариф. users_ultra_subscription — информация о пользователях, пользующихся платным тарифом. Визуализировали данные о расстоянии и времени поездок для каждой из тарифных категорий.\n",
    "\n",
    "По данным бесплатного тарифа, время поездки варьируется от 10 до 30 минут, а расстояние составляет от 2 до 5 км. Кроме того, некоторые пользователи преодолевают расстояния до 6 и 6,5 км.\n",
    "\n",
    "Что касается платного тарифа, то среднее время поездки в основном находится в диапазоне от 15 до 25 минут, а максимальные расстояния фиксируются примерно на уровне 3 км.\n",
    "\n",
    "Таким образом, можно сделать вывод, что пользователи с бесплатным тарифом в общем совершают более длительные поездки и проезжают большее расстояние по сравнению с пользователями платного тарифа.\n",
    "\n",
    "**5. Подсчёт выручки**\n",
    "\n",
    "Создан новый датафрейм с агрегированными данными (aggregated_data) на основе датафрейма с объединенными данными (full_data).\n",
    "\n",
    "Найдено суммарное расстояние, количество поездок и суммарное время для каждого пользователя за каждый месяц. Также добавили столбец с помесячной выручкой, которую принес каждый пользователь.\n",
    "\n",
    "**6. Проверка гипотез**\n",
    "\n",
    "Гипотеза о том, что пользователи с подпиской «выгоднее» для компании, они тратят больше времени на поездки, оказалась верна\n",
    "Гипотеза о том, что среднее расстояние поездки, пользователей с подпиской, не превышает оптимальное расстоянием в 3130 м\n",
    "Гипотеза о том, что помесячная выручка от пользователей с подпиской по месяцам выше, чем выручка от пользователей без подписки оказалась верна.\n",
    "\n",
    "Таким образом, пользователи с подпиской «выгоднее» для компании, они тратят больше времени на поездки и средняя месячная выручка от пользователей с подпиской, больше средней месячной выручки от пользователей без подписки. При этом среднее расстояние поездки, пользователей с подпиской, не превышает оптимальное расстоянием в 3130 м, а значит поездки пользователей с подпиской не приводят к существенному износу самокатов.\n",
    "\n",
    "**7. Распределения**\n",
    "\n",
    "1. Для того чтобы как минимум 100 существующих клиентов продлили подписку, необходимо разослать не менее 1164 промокода. При этом вероятность того, что план не будет выполнен, составляет 5%, учитывая, что 10% получивших промокоды продлевают свою подписку.\n",
    "\n",
    "2. Если отправить 1 миллион уведомлений, из которых лишь 40 % клиентов откроют их, вероятность того, что количество открытых уведомлений не превысит 399,5 тысяч пользователей, составит 0,1537 или 15,37 %.\n",
    "\n",
    "**Заключение**\n",
    "\n",
    "Пользователи с подпиской предоставляют сервису аренды самокатов большую выгоду, поэтому руководству компании следует предпринять шаги для увеличения числа клиентов, оформляющих подписку"
   ]
  }
 ],
 "metadata": {
  "ExecuteTimeLog": [
   {
    "duration": 118,
    "start_time": "2024-12-02T08:41:19.091Z"
   },
   {
    "duration": 798,
    "start_time": "2024-12-02T08:42:02.978Z"
   },
   {
    "duration": 288,
    "start_time": "2024-12-02T08:44:55.707Z"
   },
   {
    "duration": 71,
    "start_time": "2024-12-02T08:45:59.339Z"
   },
   {
    "duration": 70,
    "start_time": "2024-12-02T08:46:05.483Z"
   },
   {
    "duration": 7,
    "start_time": "2024-12-02T08:46:07.267Z"
   },
   {
    "duration": 13,
    "start_time": "2024-12-02T08:46:23.938Z"
   },
   {
    "duration": 11,
    "start_time": "2024-12-02T08:47:04.523Z"
   },
   {
    "duration": 11,
    "start_time": "2024-12-02T08:48:01.163Z"
   },
   {
    "duration": 13,
    "start_time": "2024-12-02T08:54:00.429Z"
   },
   {
    "duration": 16,
    "start_time": "2024-12-02T08:54:26.700Z"
   },
   {
    "duration": 10,
    "start_time": "2024-12-02T08:55:05.429Z"
   },
   {
    "duration": 11,
    "start_time": "2024-12-02T08:56:09.140Z"
   },
   {
    "duration": 9,
    "start_time": "2024-12-02T08:56:57.284Z"
   },
   {
    "duration": 9,
    "start_time": "2024-12-02T09:01:31.645Z"
   },
   {
    "duration": 7,
    "start_time": "2024-12-02T09:01:53.222Z"
   },
   {
    "duration": 182,
    "start_time": "2024-12-02T09:04:26.886Z"
   },
   {
    "duration": 12,
    "start_time": "2024-12-02T09:25:46.099Z"
   },
   {
    "duration": 13,
    "start_time": "2024-12-02T09:26:02.898Z"
   },
   {
    "duration": 16,
    "start_time": "2024-12-02T09:26:17.714Z"
   },
   {
    "duration": 8,
    "start_time": "2024-12-02T09:28:34.027Z"
   },
   {
    "duration": 9,
    "start_time": "2024-12-02T09:51:20.943Z"
   },
   {
    "duration": 16,
    "start_time": "2024-12-02T09:51:32.999Z"
   },
   {
    "duration": 324,
    "start_time": "2024-12-02T10:29:21.404Z"
   },
   {
    "duration": 137,
    "start_time": "2024-12-02T10:37:27.879Z"
   },
   {
    "duration": 212,
    "start_time": "2024-12-02T10:38:57.829Z"
   },
   {
    "duration": 102,
    "start_time": "2024-12-02T10:52:28.264Z"
   },
   {
    "duration": 107,
    "start_time": "2024-12-02T10:53:37.312Z"
   },
   {
    "duration": 143,
    "start_time": "2024-12-02T10:53:41.368Z"
   },
   {
    "duration": 248,
    "start_time": "2024-12-02T10:57:36.169Z"
   },
   {
    "duration": 244,
    "start_time": "2024-12-02T10:57:46.001Z"
   },
   {
    "duration": 189,
    "start_time": "2024-12-02T10:57:56.016Z"
   },
   {
    "duration": 176,
    "start_time": "2024-12-02T10:58:09.256Z"
   },
   {
    "duration": 150,
    "start_time": "2024-12-02T10:58:51.960Z"
   },
   {
    "duration": 218,
    "start_time": "2024-12-02T10:59:04.314Z"
   },
   {
    "duration": 170,
    "start_time": "2024-12-02T10:59:15.849Z"
   },
   {
    "duration": 7,
    "start_time": "2024-12-02T11:07:03.755Z"
   },
   {
    "duration": 7,
    "start_time": "2024-12-02T11:09:22.916Z"
   },
   {
    "duration": 185,
    "start_time": "2024-12-02T11:14:57.652Z"
   },
   {
    "duration": 10,
    "start_time": "2024-12-02T11:17:26.956Z"
   },
   {
    "duration": 115,
    "start_time": "2024-12-02T11:17:42.701Z"
   },
   {
    "duration": 109,
    "start_time": "2024-12-02T11:17:51.628Z"
   },
   {
    "duration": 103,
    "start_time": "2024-12-02T11:18:17.372Z"
   },
   {
    "duration": 190,
    "start_time": "2024-12-02T11:21:40.159Z"
   },
   {
    "duration": 9,
    "start_time": "2024-12-02T11:23:19.734Z"
   },
   {
    "duration": 8,
    "start_time": "2024-12-02T11:26:37.015Z"
   },
   {
    "duration": 190,
    "start_time": "2024-12-02T11:27:52.711Z"
   },
   {
    "duration": 169,
    "start_time": "2024-12-02T11:28:00.535Z"
   },
   {
    "duration": 12,
    "start_time": "2024-12-02T12:14:41.424Z"
   },
   {
    "duration": 23,
    "start_time": "2024-12-02T12:15:35.254Z"
   },
   {
    "duration": 17,
    "start_time": "2024-12-02T12:16:03.597Z"
   },
   {
    "duration": 17,
    "start_time": "2024-12-02T12:17:05.799Z"
   },
   {
    "duration": 21,
    "start_time": "2024-12-02T12:19:29.079Z"
   },
   {
    "duration": 8,
    "start_time": "2024-12-02T12:21:52.958Z"
   },
   {
    "duration": 15,
    "start_time": "2024-12-02T12:22:11.631Z"
   },
   {
    "duration": 15,
    "start_time": "2024-12-02T12:23:07.735Z"
   },
   {
    "duration": 4,
    "start_time": "2024-12-02T12:30:39.042Z"
   },
   {
    "duration": 188,
    "start_time": "2024-12-02T12:31:10.153Z"
   },
   {
    "duration": 189,
    "start_time": "2024-12-02T12:34:14.769Z"
   },
   {
    "duration": 3,
    "start_time": "2024-12-02T12:35:32.858Z"
   },
   {
    "duration": 213,
    "start_time": "2024-12-02T12:35:34.434Z"
   },
   {
    "duration": 4,
    "start_time": "2024-12-02T12:36:07.393Z"
   },
   {
    "duration": 180,
    "start_time": "2024-12-02T12:36:09.177Z"
   },
   {
    "duration": 166,
    "start_time": "2024-12-02T12:37:20.066Z"
   },
   {
    "duration": 146,
    "start_time": "2024-12-02T12:38:17.083Z"
   },
   {
    "duration": 124,
    "start_time": "2024-12-02T12:38:33.810Z"
   },
   {
    "duration": 154,
    "start_time": "2024-12-02T12:39:06.347Z"
   },
   {
    "duration": 157,
    "start_time": "2024-12-02T12:41:23.299Z"
   },
   {
    "duration": 153,
    "start_time": "2024-12-02T12:42:04.611Z"
   },
   {
    "duration": 24,
    "start_time": "2024-12-02T12:46:09.924Z"
   },
   {
    "duration": 17,
    "start_time": "2024-12-02T12:46:42.612Z"
   },
   {
    "duration": 15,
    "start_time": "2024-12-02T12:46:44.060Z"
   },
   {
    "duration": 47,
    "start_time": "2024-12-03T11:11:00.699Z"
   },
   {
    "duration": 6,
    "start_time": "2024-12-03T11:11:23.047Z"
   },
   {
    "duration": 763,
    "start_time": "2024-12-03T11:11:36.067Z"
   },
   {
    "duration": 284,
    "start_time": "2024-12-03T11:11:36.832Z"
   },
   {
    "duration": 12,
    "start_time": "2024-12-03T11:11:37.118Z"
   },
   {
    "duration": 16,
    "start_time": "2024-12-03T11:11:37.131Z"
   },
   {
    "duration": 9,
    "start_time": "2024-12-03T11:11:37.148Z"
   },
   {
    "duration": 61,
    "start_time": "2024-12-03T11:11:37.158Z"
   },
   {
    "duration": 14,
    "start_time": "2024-12-03T11:11:37.220Z"
   },
   {
    "duration": 20,
    "start_time": "2024-12-03T11:11:37.236Z"
   },
   {
    "duration": 10,
    "start_time": "2024-12-03T11:11:37.257Z"
   },
   {
    "duration": 7,
    "start_time": "2024-12-03T11:11:37.270Z"
   },
   {
    "duration": 10,
    "start_time": "2024-12-03T11:11:37.279Z"
   },
   {
    "duration": 70,
    "start_time": "2024-12-03T11:11:37.290Z"
   },
   {
    "duration": 148,
    "start_time": "2024-12-03T11:11:37.361Z"
   },
   {
    "duration": 5,
    "start_time": "2024-12-03T11:11:37.511Z"
   },
   {
    "duration": 98,
    "start_time": "2024-12-03T11:11:37.518Z"
   },
   {
    "duration": 155,
    "start_time": "2024-12-03T11:11:37.618Z"
   },
   {
    "duration": 8,
    "start_time": "2024-12-03T11:11:37.774Z"
   },
   {
    "duration": 3,
    "start_time": "2024-12-03T11:11:37.783Z"
   },
   {
    "duration": 172,
    "start_time": "2024-12-03T11:11:37.787Z"
   },
   {
    "duration": 12,
    "start_time": "2024-12-03T11:11:37.960Z"
   },
   {
    "duration": 71,
    "start_time": "2024-12-03T11:11:37.973Z"
   },
   {
    "duration": 178,
    "start_time": "2024-12-03T11:11:38.045Z"
   },
   {
    "duration": 15,
    "start_time": "2024-12-03T11:11:38.224Z"
   },
   {
    "duration": 14,
    "start_time": "2024-12-03T11:11:38.240Z"
   },
   {
    "duration": 13,
    "start_time": "2024-12-03T11:11:38.271Z"
   },
   {
    "duration": 156,
    "start_time": "2024-12-03T11:11:38.285Z"
   },
   {
    "duration": 153,
    "start_time": "2024-12-03T11:11:38.442Z"
   },
   {
    "duration": 138,
    "start_time": "2024-12-03T11:11:38.597Z"
   },
   {
    "duration": 137,
    "start_time": "2024-12-03T11:11:38.736Z"
   },
   {
    "duration": 18,
    "start_time": "2024-12-03T11:11:38.874Z"
   },
   {
    "duration": 36,
    "start_time": "2024-12-03T11:31:27.035Z"
   },
   {
    "duration": 551,
    "start_time": "2024-12-03T11:36:18.300Z"
   },
   {
    "duration": 62,
    "start_time": "2024-12-03T11:36:18.853Z"
   },
   {
    "duration": 12,
    "start_time": "2024-12-03T11:36:18.916Z"
   },
   {
    "duration": 14,
    "start_time": "2024-12-03T11:36:18.930Z"
   },
   {
    "duration": 10,
    "start_time": "2024-12-03T11:36:18.945Z"
   },
   {
    "duration": 10,
    "start_time": "2024-12-03T11:36:18.956Z"
   },
   {
    "duration": 44,
    "start_time": "2024-12-03T11:36:18.967Z"
   },
   {
    "duration": 8,
    "start_time": "2024-12-03T11:36:19.012Z"
   },
   {
    "duration": 9,
    "start_time": "2024-12-03T11:36:19.021Z"
   },
   {
    "duration": 7,
    "start_time": "2024-12-03T11:36:19.032Z"
   },
   {
    "duration": 9,
    "start_time": "2024-12-03T11:36:19.040Z"
   },
   {
    "duration": 5,
    "start_time": "2024-12-03T11:36:19.050Z"
   },
   {
    "duration": 149,
    "start_time": "2024-12-03T11:36:19.056Z"
   },
   {
    "duration": 4,
    "start_time": "2024-12-03T11:36:19.207Z"
   },
   {
    "duration": 93,
    "start_time": "2024-12-03T11:36:19.213Z"
   },
   {
    "duration": 143,
    "start_time": "2024-12-03T11:36:19.307Z"
   },
   {
    "duration": 6,
    "start_time": "2024-12-03T11:36:19.452Z"
   },
   {
    "duration": 18,
    "start_time": "2024-12-03T11:36:19.459Z"
   },
   {
    "duration": 152,
    "start_time": "2024-12-03T11:36:19.478Z"
   },
   {
    "duration": 7,
    "start_time": "2024-12-03T11:36:19.631Z"
   },
   {
    "duration": 3,
    "start_time": "2024-12-03T11:36:19.639Z"
   },
   {
    "duration": 185,
    "start_time": "2024-12-03T11:36:19.643Z"
   },
   {
    "duration": 15,
    "start_time": "2024-12-03T11:36:19.829Z"
   },
   {
    "duration": 27,
    "start_time": "2024-12-03T11:36:19.845Z"
   },
   {
    "duration": 12,
    "start_time": "2024-12-03T11:36:19.873Z"
   },
   {
    "duration": 154,
    "start_time": "2024-12-03T11:36:19.886Z"
   },
   {
    "duration": 137,
    "start_time": "2024-12-03T11:36:20.041Z"
   },
   {
    "duration": 130,
    "start_time": "2024-12-03T11:36:20.181Z"
   },
   {
    "duration": 129,
    "start_time": "2024-12-03T11:36:20.313Z"
   },
   {
    "duration": 33,
    "start_time": "2024-12-03T11:36:20.444Z"
   },
   {
    "duration": 990,
    "start_time": "2024-12-03T11:40:38.802Z"
   },
   {
    "duration": 145,
    "start_time": "2024-12-03T11:41:52.922Z"
   },
   {
    "duration": 146,
    "start_time": "2024-12-03T11:43:08.475Z"
   },
   {
    "duration": 6,
    "start_time": "2024-12-03T11:58:48.648Z"
   },
   {
    "duration": 998,
    "start_time": "2024-12-03T11:59:30.091Z"
   },
   {
    "duration": 62,
    "start_time": "2024-12-03T11:59:31.091Z"
   },
   {
    "duration": 20,
    "start_time": "2024-12-03T11:59:31.155Z"
   },
   {
    "duration": 24,
    "start_time": "2024-12-03T11:59:31.177Z"
   },
   {
    "duration": 9,
    "start_time": "2024-12-03T11:59:31.203Z"
   },
   {
    "duration": 23,
    "start_time": "2024-12-03T11:59:31.213Z"
   },
   {
    "duration": 25,
    "start_time": "2024-12-03T11:59:31.237Z"
   },
   {
    "duration": 25,
    "start_time": "2024-12-03T11:59:31.263Z"
   },
   {
    "duration": 8,
    "start_time": "2024-12-03T11:59:31.289Z"
   },
   {
    "duration": 73,
    "start_time": "2024-12-03T11:59:31.299Z"
   },
   {
    "duration": 19,
    "start_time": "2024-12-03T11:59:31.373Z"
   },
   {
    "duration": 7,
    "start_time": "2024-12-03T11:59:31.393Z"
   },
   {
    "duration": 155,
    "start_time": "2024-12-03T11:59:31.401Z"
   },
   {
    "duration": 4,
    "start_time": "2024-12-03T11:59:31.558Z"
   },
   {
    "duration": 95,
    "start_time": "2024-12-03T11:59:31.571Z"
   },
   {
    "duration": 165,
    "start_time": "2024-12-03T11:59:31.668Z"
   },
   {
    "duration": 8,
    "start_time": "2024-12-03T11:59:31.835Z"
   },
   {
    "duration": 7,
    "start_time": "2024-12-03T11:59:31.845Z"
   },
   {
    "duration": 160,
    "start_time": "2024-12-03T11:59:31.853Z"
   },
   {
    "duration": 7,
    "start_time": "2024-12-03T11:59:32.015Z"
   },
   {
    "duration": 10,
    "start_time": "2024-12-03T11:59:32.023Z"
   },
   {
    "duration": 154,
    "start_time": "2024-12-03T11:59:32.034Z"
   },
   {
    "duration": 14,
    "start_time": "2024-12-03T11:59:32.190Z"
   },
   {
    "duration": 73,
    "start_time": "2024-12-03T11:59:32.206Z"
   },
   {
    "duration": 33,
    "start_time": "2024-12-03T11:59:32.281Z"
   },
   {
    "duration": 155,
    "start_time": "2024-12-03T11:59:32.315Z"
   },
   {
    "duration": 138,
    "start_time": "2024-12-03T11:59:32.471Z"
   },
   {
    "duration": 145,
    "start_time": "2024-12-03T11:59:32.611Z"
   },
   {
    "duration": 137,
    "start_time": "2024-12-03T11:59:32.758Z"
   },
   {
    "duration": 24,
    "start_time": "2024-12-03T11:59:32.897Z"
   },
   {
    "duration": 200,
    "start_time": "2024-12-03T11:59:32.923Z"
   },
   {
    "duration": 4,
    "start_time": "2024-12-03T11:59:33.124Z"
   },
   {
    "duration": 4,
    "start_time": "2024-12-03T12:10:48.196Z"
   },
   {
    "duration": 97,
    "start_time": "2024-12-03T12:12:56.324Z"
   },
   {
    "duration": 47,
    "start_time": "2024-12-04T09:35:28.778Z"
   },
   {
    "duration": 1213,
    "start_time": "2024-12-04T09:35:39.079Z"
   },
   {
    "duration": 265,
    "start_time": "2024-12-04T09:35:40.294Z"
   },
   {
    "duration": 12,
    "start_time": "2024-12-04T09:35:40.561Z"
   },
   {
    "duration": 16,
    "start_time": "2024-12-04T09:35:40.574Z"
   },
   {
    "duration": 9,
    "start_time": "2024-12-04T09:35:40.591Z"
   },
   {
    "duration": 20,
    "start_time": "2024-12-04T09:35:40.601Z"
   },
   {
    "duration": 6,
    "start_time": "2024-12-04T09:35:40.623Z"
   },
   {
    "duration": 6,
    "start_time": "2024-12-04T09:35:40.630Z"
   },
   {
    "duration": 7,
    "start_time": "2024-12-04T09:35:40.637Z"
   },
   {
    "duration": 26,
    "start_time": "2024-12-04T09:35:40.647Z"
   },
   {
    "duration": 10,
    "start_time": "2024-12-04T09:35:40.674Z"
   },
   {
    "duration": 4,
    "start_time": "2024-12-04T09:35:40.685Z"
   },
   {
    "duration": 160,
    "start_time": "2024-12-04T09:35:40.691Z"
   },
   {
    "duration": 5,
    "start_time": "2024-12-04T09:35:40.852Z"
   },
   {
    "duration": 93,
    "start_time": "2024-12-04T09:35:40.858Z"
   },
   {
    "duration": 151,
    "start_time": "2024-12-04T09:35:40.953Z"
   },
   {
    "duration": 7,
    "start_time": "2024-12-04T09:35:41.105Z"
   },
   {
    "duration": 3,
    "start_time": "2024-12-04T09:35:41.113Z"
   },
   {
    "duration": 166,
    "start_time": "2024-12-04T09:35:41.118Z"
   },
   {
    "duration": 7,
    "start_time": "2024-12-04T09:35:41.286Z"
   },
   {
    "duration": 15,
    "start_time": "2024-12-04T09:35:41.295Z"
   },
   {
    "duration": 139,
    "start_time": "2024-12-04T09:35:41.311Z"
   },
   {
    "duration": 25,
    "start_time": "2024-12-04T09:35:41.452Z"
   },
   {
    "duration": 14,
    "start_time": "2024-12-04T09:35:41.479Z"
   },
   {
    "duration": 11,
    "start_time": "2024-12-04T09:35:41.495Z"
   },
   {
    "duration": 164,
    "start_time": "2024-12-04T09:35:41.508Z"
   },
   {
    "duration": 160,
    "start_time": "2024-12-04T09:35:41.673Z"
   },
   {
    "duration": 136,
    "start_time": "2024-12-04T09:35:41.836Z"
   },
   {
    "duration": 136,
    "start_time": "2024-12-04T09:35:41.974Z"
   },
   {
    "duration": 25,
    "start_time": "2024-12-04T09:35:42.111Z"
   },
   {
    "duration": 196,
    "start_time": "2024-12-04T09:35:42.138Z"
   },
   {
    "duration": 4,
    "start_time": "2024-12-04T09:35:42.335Z"
   },
   {
    "duration": 10,
    "start_time": "2024-12-04T09:35:42.341Z"
   },
   {
    "duration": 6,
    "start_time": "2024-12-04T09:49:11.324Z"
   },
   {
    "duration": 2,
    "start_time": "2024-12-04T11:13:30.248Z"
   },
   {
    "duration": 5,
    "start_time": "2024-12-04T11:21:10.005Z"
   },
   {
    "duration": 96,
    "start_time": "2024-12-04T11:37:36.196Z"
   },
   {
    "duration": 11,
    "start_time": "2024-12-04T11:37:57.396Z"
   },
   {
    "duration": 94,
    "start_time": "2024-12-04T11:38:09.632Z"
   },
   {
    "duration": 108,
    "start_time": "2024-12-04T11:38:14.443Z"
   },
   {
    "duration": 108,
    "start_time": "2024-12-04T11:40:58.117Z"
   },
   {
    "duration": 12,
    "start_time": "2024-12-04T11:43:44.694Z"
   },
   {
    "duration": 3,
    "start_time": "2024-12-04T11:44:14.757Z"
   },
   {
    "duration": 948,
    "start_time": "2024-12-04T11:44:23.425Z"
   },
   {
    "duration": 58,
    "start_time": "2024-12-04T11:44:24.374Z"
   },
   {
    "duration": 11,
    "start_time": "2024-12-04T11:44:24.433Z"
   },
   {
    "duration": 15,
    "start_time": "2024-12-04T11:44:24.446Z"
   },
   {
    "duration": 8,
    "start_time": "2024-12-04T11:44:24.462Z"
   },
   {
    "duration": 9,
    "start_time": "2024-12-04T11:44:24.471Z"
   },
   {
    "duration": 6,
    "start_time": "2024-12-04T11:44:24.481Z"
   },
   {
    "duration": 5,
    "start_time": "2024-12-04T11:44:24.488Z"
   },
   {
    "duration": 17,
    "start_time": "2024-12-04T11:44:24.494Z"
   },
   {
    "duration": 6,
    "start_time": "2024-12-04T11:44:24.513Z"
   },
   {
    "duration": 8,
    "start_time": "2024-12-04T11:44:24.520Z"
   },
   {
    "duration": 8,
    "start_time": "2024-12-04T11:44:24.529Z"
   },
   {
    "duration": 152,
    "start_time": "2024-12-04T11:44:24.539Z"
   },
   {
    "duration": 5,
    "start_time": "2024-12-04T11:44:24.692Z"
   },
   {
    "duration": 97,
    "start_time": "2024-12-04T11:44:24.698Z"
   },
   {
    "duration": 147,
    "start_time": "2024-12-04T11:44:24.797Z"
   },
   {
    "duration": 7,
    "start_time": "2024-12-04T11:44:24.945Z"
   },
   {
    "duration": 3,
    "start_time": "2024-12-04T11:44:24.953Z"
   },
   {
    "duration": 168,
    "start_time": "2024-12-04T11:44:24.957Z"
   },
   {
    "duration": 10,
    "start_time": "2024-12-04T11:44:25.126Z"
   },
   {
    "duration": 7,
    "start_time": "2024-12-04T11:44:25.137Z"
   },
   {
    "duration": 159,
    "start_time": "2024-12-04T11:44:25.146Z"
   },
   {
    "duration": 16,
    "start_time": "2024-12-04T11:44:25.307Z"
   },
   {
    "duration": 36,
    "start_time": "2024-12-04T11:44:25.324Z"
   },
   {
    "duration": 12,
    "start_time": "2024-12-04T11:44:25.361Z"
   },
   {
    "duration": 146,
    "start_time": "2024-12-04T11:44:25.375Z"
   },
   {
    "duration": 139,
    "start_time": "2024-12-04T11:44:25.522Z"
   },
   {
    "duration": 129,
    "start_time": "2024-12-04T11:44:25.670Z"
   },
   {
    "duration": 136,
    "start_time": "2024-12-04T11:44:25.801Z"
   },
   {
    "duration": 34,
    "start_time": "2024-12-04T11:44:25.938Z"
   },
   {
    "duration": 197,
    "start_time": "2024-12-04T11:44:25.974Z"
   },
   {
    "duration": 4,
    "start_time": "2024-12-04T11:44:26.173Z"
   },
   {
    "duration": 28,
    "start_time": "2024-12-04T11:44:26.179Z"
   },
   {
    "duration": 60,
    "start_time": "2024-12-04T11:44:26.208Z"
   },
   {
    "duration": 109,
    "start_time": "2024-12-04T11:44:26.269Z"
   },
   {
    "duration": 5,
    "start_time": "2024-12-04T11:44:26.379Z"
   },
   {
    "duration": 987,
    "start_time": "2024-12-04T12:08:14.895Z"
   },
   {
    "duration": 58,
    "start_time": "2024-12-04T12:08:15.884Z"
   },
   {
    "duration": 12,
    "start_time": "2024-12-04T12:08:15.943Z"
   },
   {
    "duration": 13,
    "start_time": "2024-12-04T12:08:15.956Z"
   },
   {
    "duration": 9,
    "start_time": "2024-12-04T12:08:15.970Z"
   },
   {
    "duration": 15,
    "start_time": "2024-12-04T12:08:15.980Z"
   },
   {
    "duration": 6,
    "start_time": "2024-12-04T12:08:15.996Z"
   },
   {
    "duration": 12,
    "start_time": "2024-12-04T12:08:16.004Z"
   },
   {
    "duration": 19,
    "start_time": "2024-12-04T12:08:16.017Z"
   },
   {
    "duration": 6,
    "start_time": "2024-12-04T12:08:16.038Z"
   },
   {
    "duration": 9,
    "start_time": "2024-12-04T12:08:16.045Z"
   },
   {
    "duration": 4,
    "start_time": "2024-12-04T12:08:16.055Z"
   },
   {
    "duration": 141,
    "start_time": "2024-12-04T12:08:16.060Z"
   },
   {
    "duration": 4,
    "start_time": "2024-12-04T12:08:16.202Z"
   },
   {
    "duration": 89,
    "start_time": "2024-12-04T12:08:16.208Z"
   },
   {
    "duration": 140,
    "start_time": "2024-12-04T12:08:16.298Z"
   },
   {
    "duration": 7,
    "start_time": "2024-12-04T12:08:16.440Z"
   },
   {
    "duration": 22,
    "start_time": "2024-12-04T12:08:16.448Z"
   },
   {
    "duration": 149,
    "start_time": "2024-12-04T12:08:16.471Z"
   },
   {
    "duration": 6,
    "start_time": "2024-12-04T12:08:16.622Z"
   },
   {
    "duration": 15,
    "start_time": "2024-12-04T12:08:16.629Z"
   },
   {
    "duration": 130,
    "start_time": "2024-12-04T12:08:16.645Z"
   },
   {
    "duration": 15,
    "start_time": "2024-12-04T12:08:16.776Z"
   },
   {
    "duration": 13,
    "start_time": "2024-12-04T12:08:16.792Z"
   },
   {
    "duration": 10,
    "start_time": "2024-12-04T12:08:16.806Z"
   },
   {
    "duration": 154,
    "start_time": "2024-12-04T12:08:16.818Z"
   },
   {
    "duration": 137,
    "start_time": "2024-12-04T12:08:16.974Z"
   },
   {
    "duration": 133,
    "start_time": "2024-12-04T12:08:17.113Z"
   },
   {
    "duration": 132,
    "start_time": "2024-12-04T12:08:17.247Z"
   },
   {
    "duration": 23,
    "start_time": "2024-12-04T12:08:17.381Z"
   },
   {
    "duration": 204,
    "start_time": "2024-12-04T12:08:17.405Z"
   },
   {
    "duration": 4,
    "start_time": "2024-12-04T12:08:17.611Z"
   },
   {
    "duration": 50,
    "start_time": "2024-12-04T12:08:17.616Z"
   },
   {
    "duration": 12,
    "start_time": "2024-12-04T12:08:17.668Z"
   },
   {
    "duration": 103,
    "start_time": "2024-12-04T12:08:17.681Z"
   },
   {
    "duration": 3,
    "start_time": "2024-12-04T12:08:17.785Z"
   },
   {
    "duration": 1348,
    "start_time": "2024-12-04T12:13:10.072Z"
   },
   {
    "duration": 283,
    "start_time": "2024-12-04T12:13:11.422Z"
   },
   {
    "duration": 16,
    "start_time": "2024-12-04T12:13:11.706Z"
   },
   {
    "duration": 25,
    "start_time": "2024-12-04T12:13:11.723Z"
   },
   {
    "duration": 11,
    "start_time": "2024-12-04T12:13:11.750Z"
   },
   {
    "duration": 12,
    "start_time": "2024-12-04T12:13:11.763Z"
   },
   {
    "duration": 16,
    "start_time": "2024-12-04T12:13:11.776Z"
   },
   {
    "duration": 7,
    "start_time": "2024-12-04T12:13:11.793Z"
   },
   {
    "duration": 14,
    "start_time": "2024-12-04T12:13:11.801Z"
   },
   {
    "duration": 8,
    "start_time": "2024-12-04T12:13:11.816Z"
   },
   {
    "duration": 11,
    "start_time": "2024-12-04T12:13:11.825Z"
   },
   {
    "duration": 5,
    "start_time": "2024-12-04T12:13:11.838Z"
   },
   {
    "duration": 202,
    "start_time": "2024-12-04T12:13:11.845Z"
   },
   {
    "duration": 6,
    "start_time": "2024-12-04T12:13:12.050Z"
   },
   {
    "duration": 151,
    "start_time": "2024-12-04T12:13:12.057Z"
   },
   {
    "duration": 174,
    "start_time": "2024-12-04T12:13:12.210Z"
   },
   {
    "duration": 13,
    "start_time": "2024-12-04T12:13:12.386Z"
   },
   {
    "duration": 4,
    "start_time": "2024-12-04T12:13:12.400Z"
   },
   {
    "duration": 197,
    "start_time": "2024-12-04T12:13:12.405Z"
   },
   {
    "duration": 8,
    "start_time": "2024-12-04T12:13:12.604Z"
   },
   {
    "duration": 4,
    "start_time": "2024-12-04T12:13:12.614Z"
   },
   {
    "duration": 187,
    "start_time": "2024-12-04T12:13:12.619Z"
   },
   {
    "duration": 20,
    "start_time": "2024-12-04T12:13:12.808Z"
   },
   {
    "duration": 17,
    "start_time": "2024-12-04T12:13:12.829Z"
   },
   {
    "duration": 13,
    "start_time": "2024-12-04T12:13:12.848Z"
   },
   {
    "duration": 202,
    "start_time": "2024-12-04T12:13:12.863Z"
   },
   {
    "duration": 173,
    "start_time": "2024-12-04T12:13:13.066Z"
   },
   {
    "duration": 167,
    "start_time": "2024-12-04T12:13:13.241Z"
   },
   {
    "duration": 160,
    "start_time": "2024-12-04T12:13:13.410Z"
   },
   {
    "duration": 33,
    "start_time": "2024-12-04T12:13:13.572Z"
   },
   {
    "duration": 248,
    "start_time": "2024-12-04T12:13:13.606Z"
   },
   {
    "duration": 5,
    "start_time": "2024-12-04T12:13:13.856Z"
   },
   {
    "duration": 7,
    "start_time": "2024-12-04T12:13:13.862Z"
   },
   {
    "duration": 25,
    "start_time": "2024-12-04T12:13:13.871Z"
   },
   {
    "duration": 137,
    "start_time": "2024-12-04T12:13:13.898Z"
   },
   {
    "duration": 5,
    "start_time": "2024-12-04T12:13:14.036Z"
   },
   {
    "duration": 96,
    "start_time": "2024-12-04T12:18:22.966Z"
   },
   {
    "duration": 18,
    "start_time": "2024-12-04T12:18:25.197Z"
   },
   {
    "duration": 14,
    "start_time": "2024-12-04T12:19:22.628Z"
   },
   {
    "duration": 4,
    "start_time": "2024-12-04T13:39:51.628Z"
   },
   {
    "duration": 4,
    "start_time": "2024-12-04T13:43:42.321Z"
   },
   {
    "duration": 8,
    "start_time": "2024-12-04T13:45:42.312Z"
   },
   {
    "duration": 9,
    "start_time": "2024-12-04T13:46:25.062Z"
   },
   {
    "duration": 192,
    "start_time": "2024-12-04T13:55:19.289Z"
   },
   {
    "duration": 4,
    "start_time": "2024-12-04T13:55:27.216Z"
   },
   {
    "duration": 13,
    "start_time": "2024-12-04T13:55:38.151Z"
   },
   {
    "duration": 59,
    "start_time": "2024-12-05T11:17:42.879Z"
   },
   {
    "duration": 7,
    "start_time": "2024-12-05T11:18:21.371Z"
   },
   {
    "duration": 1326,
    "start_time": "2024-12-05T11:18:35.695Z"
   },
   {
    "duration": 413,
    "start_time": "2024-12-05T11:18:37.023Z"
   },
   {
    "duration": 15,
    "start_time": "2024-12-05T11:18:37.438Z"
   },
   {
    "duration": 21,
    "start_time": "2024-12-05T11:18:37.454Z"
   },
   {
    "duration": 11,
    "start_time": "2024-12-05T11:18:37.476Z"
   },
   {
    "duration": 15,
    "start_time": "2024-12-05T11:18:37.489Z"
   },
   {
    "duration": 17,
    "start_time": "2024-12-05T11:18:37.505Z"
   },
   {
    "duration": 24,
    "start_time": "2024-12-05T11:18:37.523Z"
   },
   {
    "duration": 107,
    "start_time": "2024-12-05T11:18:37.549Z"
   },
   {
    "duration": 0,
    "start_time": "2024-12-05T11:18:37.659Z"
   },
   {
    "duration": 0,
    "start_time": "2024-12-05T11:18:37.660Z"
   },
   {
    "duration": 0,
    "start_time": "2024-12-05T11:18:37.661Z"
   },
   {
    "duration": 0,
    "start_time": "2024-12-05T11:18:37.662Z"
   },
   {
    "duration": 0,
    "start_time": "2024-12-05T11:18:37.663Z"
   },
   {
    "duration": 0,
    "start_time": "2024-12-05T11:18:37.665Z"
   },
   {
    "duration": 0,
    "start_time": "2024-12-05T11:18:37.666Z"
   },
   {
    "duration": 0,
    "start_time": "2024-12-05T11:18:37.667Z"
   },
   {
    "duration": 0,
    "start_time": "2024-12-05T11:18:37.668Z"
   },
   {
    "duration": 0,
    "start_time": "2024-12-05T11:18:37.669Z"
   },
   {
    "duration": 0,
    "start_time": "2024-12-05T11:18:37.670Z"
   },
   {
    "duration": 0,
    "start_time": "2024-12-05T11:18:37.671Z"
   },
   {
    "duration": 0,
    "start_time": "2024-12-05T11:18:37.672Z"
   },
   {
    "duration": 0,
    "start_time": "2024-12-05T11:18:37.673Z"
   },
   {
    "duration": 0,
    "start_time": "2024-12-05T11:18:37.674Z"
   },
   {
    "duration": 0,
    "start_time": "2024-12-05T11:18:37.675Z"
   },
   {
    "duration": 0,
    "start_time": "2024-12-05T11:18:37.676Z"
   },
   {
    "duration": 0,
    "start_time": "2024-12-05T11:18:37.677Z"
   },
   {
    "duration": 0,
    "start_time": "2024-12-05T11:18:37.678Z"
   },
   {
    "duration": 0,
    "start_time": "2024-12-05T11:18:37.679Z"
   },
   {
    "duration": 0,
    "start_time": "2024-12-05T11:18:37.680Z"
   },
   {
    "duration": 0,
    "start_time": "2024-12-05T11:18:37.681Z"
   },
   {
    "duration": 0,
    "start_time": "2024-12-05T11:18:37.682Z"
   },
   {
    "duration": 0,
    "start_time": "2024-12-05T11:18:37.683Z"
   },
   {
    "duration": 0,
    "start_time": "2024-12-05T11:18:37.721Z"
   },
   {
    "duration": 0,
    "start_time": "2024-12-05T11:18:37.722Z"
   },
   {
    "duration": 0,
    "start_time": "2024-12-05T11:18:37.723Z"
   },
   {
    "duration": 0,
    "start_time": "2024-12-05T11:18:37.724Z"
   },
   {
    "duration": 0,
    "start_time": "2024-12-05T11:18:37.725Z"
   },
   {
    "duration": 0,
    "start_time": "2024-12-05T11:18:37.726Z"
   },
   {
    "duration": 0,
    "start_time": "2024-12-05T11:18:37.727Z"
   },
   {
    "duration": 0,
    "start_time": "2024-12-05T11:18:37.728Z"
   },
   {
    "duration": 164,
    "start_time": "2024-12-05T11:22:02.397Z"
   },
   {
    "duration": 372,
    "start_time": "2024-12-05T11:22:06.636Z"
   },
   {
    "duration": 1088,
    "start_time": "2024-12-05T11:22:14.505Z"
   },
   {
    "duration": 82,
    "start_time": "2024-12-05T11:22:15.595Z"
   },
   {
    "duration": 14,
    "start_time": "2024-12-05T11:22:15.678Z"
   },
   {
    "duration": 17,
    "start_time": "2024-12-05T11:22:15.694Z"
   },
   {
    "duration": 11,
    "start_time": "2024-12-05T11:22:15.712Z"
   },
   {
    "duration": 22,
    "start_time": "2024-12-05T11:22:15.725Z"
   },
   {
    "duration": 10,
    "start_time": "2024-12-05T11:22:15.749Z"
   },
   {
    "duration": 27,
    "start_time": "2024-12-05T11:22:15.760Z"
   },
   {
    "duration": 99,
    "start_time": "2024-12-05T11:22:15.789Z"
   },
   {
    "duration": 0,
    "start_time": "2024-12-05T11:22:15.891Z"
   },
   {
    "duration": 0,
    "start_time": "2024-12-05T11:22:15.892Z"
   },
   {
    "duration": 0,
    "start_time": "2024-12-05T11:22:15.893Z"
   },
   {
    "duration": 0,
    "start_time": "2024-12-05T11:22:15.895Z"
   },
   {
    "duration": 0,
    "start_time": "2024-12-05T11:22:15.896Z"
   },
   {
    "duration": 0,
    "start_time": "2024-12-05T11:22:15.897Z"
   },
   {
    "duration": 0,
    "start_time": "2024-12-05T11:22:15.898Z"
   },
   {
    "duration": 0,
    "start_time": "2024-12-05T11:22:15.899Z"
   },
   {
    "duration": 0,
    "start_time": "2024-12-05T11:22:15.900Z"
   },
   {
    "duration": 0,
    "start_time": "2024-12-05T11:22:15.901Z"
   },
   {
    "duration": 0,
    "start_time": "2024-12-05T11:22:15.902Z"
   },
   {
    "duration": 0,
    "start_time": "2024-12-05T11:22:15.903Z"
   },
   {
    "duration": 0,
    "start_time": "2024-12-05T11:22:15.904Z"
   },
   {
    "duration": 0,
    "start_time": "2024-12-05T11:22:15.921Z"
   },
   {
    "duration": 0,
    "start_time": "2024-12-05T11:22:15.922Z"
   },
   {
    "duration": 0,
    "start_time": "2024-12-05T11:22:15.924Z"
   },
   {
    "duration": 0,
    "start_time": "2024-12-05T11:22:15.924Z"
   },
   {
    "duration": 0,
    "start_time": "2024-12-05T11:22:15.925Z"
   },
   {
    "duration": 0,
    "start_time": "2024-12-05T11:22:15.927Z"
   },
   {
    "duration": 0,
    "start_time": "2024-12-05T11:22:15.928Z"
   },
   {
    "duration": 0,
    "start_time": "2024-12-05T11:22:15.929Z"
   },
   {
    "duration": 0,
    "start_time": "2024-12-05T11:22:15.930Z"
   },
   {
    "duration": 1,
    "start_time": "2024-12-05T11:22:15.930Z"
   },
   {
    "duration": 0,
    "start_time": "2024-12-05T11:22:15.931Z"
   },
   {
    "duration": 0,
    "start_time": "2024-12-05T11:22:15.932Z"
   },
   {
    "duration": 0,
    "start_time": "2024-12-05T11:22:15.933Z"
   },
   {
    "duration": 0,
    "start_time": "2024-12-05T11:22:15.934Z"
   },
   {
    "duration": 0,
    "start_time": "2024-12-05T11:22:15.935Z"
   },
   {
    "duration": 0,
    "start_time": "2024-12-05T11:22:15.936Z"
   },
   {
    "duration": 0,
    "start_time": "2024-12-05T11:22:15.937Z"
   },
   {
    "duration": 0,
    "start_time": "2024-12-05T11:22:15.938Z"
   },
   {
    "duration": 0,
    "start_time": "2024-12-05T11:22:15.939Z"
   },
   {
    "duration": 9,
    "start_time": "2024-12-05T11:22:41.020Z"
   },
   {
    "duration": 8,
    "start_time": "2024-12-05T11:22:43.875Z"
   },
   {
    "duration": 9,
    "start_time": "2024-12-05T11:22:46.395Z"
   },
   {
    "duration": 11,
    "start_time": "2024-12-05T11:22:49.322Z"
   },
   {
    "duration": 13,
    "start_time": "2024-12-05T11:22:53.386Z"
   },
   {
    "duration": 11,
    "start_time": "2024-12-05T11:22:56.875Z"
   },
   {
    "duration": 5,
    "start_time": "2024-12-05T11:23:02.403Z"
   },
   {
    "duration": 166,
    "start_time": "2024-12-05T11:23:04.899Z"
   },
   {
    "duration": 289,
    "start_time": "2024-12-05T11:23:07.539Z"
   },
   {
    "duration": 283,
    "start_time": "2024-12-05T11:24:01.140Z"
   },
   {
    "duration": 258,
    "start_time": "2024-12-05T11:24:15.835Z"
   },
   {
    "duration": 69,
    "start_time": "2024-12-05T11:24:54.932Z"
   },
   {
    "duration": 133,
    "start_time": "2024-12-05T11:25:04.540Z"
   },
   {
    "duration": 295,
    "start_time": "2024-12-05T11:25:16.484Z"
   },
   {
    "duration": 6,
    "start_time": "2024-12-05T11:28:19.708Z"
   },
   {
    "duration": 99,
    "start_time": "2024-12-05T11:28:21.788Z"
   },
   {
    "duration": 167,
    "start_time": "2024-12-05T11:28:25.260Z"
   },
   {
    "duration": 9,
    "start_time": "2024-12-05T11:28:29.916Z"
   },
   {
    "duration": 8,
    "start_time": "2024-12-05T11:33:12.742Z"
   },
   {
    "duration": 126,
    "start_time": "2024-12-05T11:34:04.893Z"
   },
   {
    "duration": 4,
    "start_time": "2024-12-05T11:34:17.070Z"
   },
   {
    "duration": 4,
    "start_time": "2024-12-05T11:34:20.462Z"
   },
   {
    "duration": 1110,
    "start_time": "2024-12-05T11:34:52.281Z"
   },
   {
    "duration": 79,
    "start_time": "2024-12-05T11:34:53.393Z"
   },
   {
    "duration": 14,
    "start_time": "2024-12-05T11:34:53.474Z"
   },
   {
    "duration": 23,
    "start_time": "2024-12-05T11:34:53.490Z"
   },
   {
    "duration": 26,
    "start_time": "2024-12-05T11:34:53.514Z"
   },
   {
    "duration": 29,
    "start_time": "2024-12-05T11:34:53.542Z"
   },
   {
    "duration": 8,
    "start_time": "2024-12-05T11:34:53.572Z"
   },
   {
    "duration": 12,
    "start_time": "2024-12-05T11:34:53.582Z"
   },
   {
    "duration": 98,
    "start_time": "2024-12-05T11:34:53.596Z"
   },
   {
    "duration": 0,
    "start_time": "2024-12-05T11:34:53.697Z"
   },
   {
    "duration": 0,
    "start_time": "2024-12-05T11:34:53.698Z"
   },
   {
    "duration": 0,
    "start_time": "2024-12-05T11:34:53.699Z"
   },
   {
    "duration": 0,
    "start_time": "2024-12-05T11:34:53.700Z"
   },
   {
    "duration": 0,
    "start_time": "2024-12-05T11:34:53.701Z"
   },
   {
    "duration": 0,
    "start_time": "2024-12-05T11:34:53.702Z"
   },
   {
    "duration": 0,
    "start_time": "2024-12-05T11:34:53.703Z"
   },
   {
    "duration": 0,
    "start_time": "2024-12-05T11:34:53.704Z"
   },
   {
    "duration": 0,
    "start_time": "2024-12-05T11:34:53.705Z"
   },
   {
    "duration": 0,
    "start_time": "2024-12-05T11:34:53.706Z"
   },
   {
    "duration": 0,
    "start_time": "2024-12-05T11:34:53.707Z"
   },
   {
    "duration": 0,
    "start_time": "2024-12-05T11:34:53.721Z"
   },
   {
    "duration": 0,
    "start_time": "2024-12-05T11:34:53.722Z"
   },
   {
    "duration": 0,
    "start_time": "2024-12-05T11:34:53.723Z"
   },
   {
    "duration": 0,
    "start_time": "2024-12-05T11:34:53.724Z"
   },
   {
    "duration": 0,
    "start_time": "2024-12-05T11:34:53.725Z"
   },
   {
    "duration": 0,
    "start_time": "2024-12-05T11:34:53.726Z"
   },
   {
    "duration": 0,
    "start_time": "2024-12-05T11:34:53.727Z"
   },
   {
    "duration": 0,
    "start_time": "2024-12-05T11:34:53.728Z"
   },
   {
    "duration": 0,
    "start_time": "2024-12-05T11:34:53.729Z"
   },
   {
    "duration": 0,
    "start_time": "2024-12-05T11:34:53.730Z"
   },
   {
    "duration": 0,
    "start_time": "2024-12-05T11:34:53.732Z"
   },
   {
    "duration": 0,
    "start_time": "2024-12-05T11:34:53.733Z"
   },
   {
    "duration": 0,
    "start_time": "2024-12-05T11:34:53.734Z"
   },
   {
    "duration": 0,
    "start_time": "2024-12-05T11:34:53.735Z"
   },
   {
    "duration": 0,
    "start_time": "2024-12-05T11:34:53.736Z"
   },
   {
    "duration": 0,
    "start_time": "2024-12-05T11:34:53.737Z"
   },
   {
    "duration": 0,
    "start_time": "2024-12-05T11:34:53.738Z"
   },
   {
    "duration": 0,
    "start_time": "2024-12-05T11:34:53.739Z"
   },
   {
    "duration": 0,
    "start_time": "2024-12-05T11:34:53.740Z"
   },
   {
    "duration": 0,
    "start_time": "2024-12-05T11:34:53.741Z"
   },
   {
    "duration": 0,
    "start_time": "2024-12-05T11:34:53.742Z"
   },
   {
    "duration": 0,
    "start_time": "2024-12-05T11:34:53.743Z"
   },
   {
    "duration": 11,
    "start_time": "2024-12-05T11:35:12.280Z"
   },
   {
    "duration": 9,
    "start_time": "2024-12-05T11:35:13.884Z"
   },
   {
    "duration": 10,
    "start_time": "2024-12-05T11:35:15.932Z"
   },
   {
    "duration": 11,
    "start_time": "2024-12-05T11:35:19.281Z"
   },
   {
    "duration": 15,
    "start_time": "2024-12-05T11:35:22.184Z"
   },
   {
    "duration": 11,
    "start_time": "2024-12-05T11:35:25.586Z"
   },
   {
    "duration": 5,
    "start_time": "2024-12-05T11:35:31.154Z"
   },
   {
    "duration": 167,
    "start_time": "2024-12-05T11:35:34.247Z"
   },
   {
    "duration": 282,
    "start_time": "2024-12-05T11:35:37.624Z"
   },
   {
    "duration": 94,
    "start_time": "2024-12-05T11:35:41.145Z"
   },
   {
    "duration": 7,
    "start_time": "2024-12-05T11:35:44.784Z"
   },
   {
    "duration": 153,
    "start_time": "2024-12-05T11:35:47.052Z"
   },
   {
    "duration": 4,
    "start_time": "2024-12-05T11:35:51.258Z"
   },
   {
    "duration": 187,
    "start_time": "2024-12-05T11:35:57.690Z"
   },
   {
    "duration": 9,
    "start_time": "2024-12-05T11:36:45.224Z"
   },
   {
    "duration": 3,
    "start_time": "2024-12-05T11:36:47.676Z"
   },
   {
    "duration": 149,
    "start_time": "2024-12-05T11:36:50.110Z"
   },
   {
    "duration": 24,
    "start_time": "2024-12-05T11:38:31.888Z"
   },
   {
    "duration": 22,
    "start_time": "2024-12-05T11:38:44.149Z"
   },
   {
    "duration": 18,
    "start_time": "2024-12-05T11:38:56.719Z"
   },
   {
    "duration": 21,
    "start_time": "2024-12-05T11:39:06.730Z"
   },
   {
    "duration": 74,
    "start_time": "2024-12-05T11:39:49.708Z"
   },
   {
    "duration": 4,
    "start_time": "2024-12-05T11:49:00.842Z"
   },
   {
    "duration": 3,
    "start_time": "2024-12-05T11:49:40.632Z"
   },
   {
    "duration": 10,
    "start_time": "2024-12-05T11:51:16.972Z"
   },
   {
    "duration": 10,
    "start_time": "2024-12-05T11:51:28.796Z"
   },
   {
    "duration": 70,
    "start_time": "2024-12-05T11:51:52.954Z"
   },
   {
    "duration": 19,
    "start_time": "2024-12-05T11:52:29.946Z"
   },
   {
    "duration": 15,
    "start_time": "2024-12-05T11:52:32.206Z"
   },
   {
    "duration": 174,
    "start_time": "2024-12-05T11:52:36.461Z"
   },
   {
    "duration": 159,
    "start_time": "2024-12-05T11:52:39.380Z"
   },
   {
    "duration": 157,
    "start_time": "2024-12-05T11:52:42.133Z"
   },
   {
    "duration": 244,
    "start_time": "2024-12-05T11:52:45.060Z"
   },
   {
    "duration": 28,
    "start_time": "2024-12-05T11:53:47.435Z"
   },
   {
    "duration": 31,
    "start_time": "2024-12-05T11:54:06.203Z"
   },
   {
    "duration": 155,
    "start_time": "2024-12-05T11:54:13.299Z"
   },
   {
    "duration": 165,
    "start_time": "2024-12-05T11:54:17.363Z"
   },
   {
    "duration": 10,
    "start_time": "2024-12-05T11:54:42.476Z"
   },
   {
    "duration": 9,
    "start_time": "2024-12-05T11:54:54.035Z"
   },
   {
    "duration": 177,
    "start_time": "2024-12-05T11:55:12.708Z"
   },
   {
    "duration": 6,
    "start_time": "2024-12-05T11:55:31.020Z"
   },
   {
    "duration": 71,
    "start_time": "2024-12-05T11:56:07.748Z"
   },
   {
    "duration": 9,
    "start_time": "2024-12-05T11:57:40.909Z"
   },
   {
    "duration": 121,
    "start_time": "2024-12-05T11:57:54.692Z"
   },
   {
    "duration": 5,
    "start_time": "2024-12-05T11:58:07.213Z"
   },
   {
    "duration": 1111,
    "start_time": "2024-12-05T11:59:48.160Z"
   },
   {
    "duration": 81,
    "start_time": "2024-12-05T11:59:49.273Z"
   },
   {
    "duration": 15,
    "start_time": "2024-12-05T11:59:49.356Z"
   },
   {
    "duration": 40,
    "start_time": "2024-12-05T11:59:49.373Z"
   },
   {
    "duration": 11,
    "start_time": "2024-12-05T11:59:49.414Z"
   },
   {
    "duration": 12,
    "start_time": "2024-12-05T11:59:49.426Z"
   },
   {
    "duration": 8,
    "start_time": "2024-12-05T11:59:49.439Z"
   },
   {
    "duration": 12,
    "start_time": "2024-12-05T11:59:49.448Z"
   },
   {
    "duration": 116,
    "start_time": "2024-12-05T11:59:49.461Z"
   },
   {
    "duration": 0,
    "start_time": "2024-12-05T11:59:49.580Z"
   },
   {
    "duration": 0,
    "start_time": "2024-12-05T11:59:49.581Z"
   },
   {
    "duration": 0,
    "start_time": "2024-12-05T11:59:49.582Z"
   },
   {
    "duration": 0,
    "start_time": "2024-12-05T11:59:49.583Z"
   },
   {
    "duration": 0,
    "start_time": "2024-12-05T11:59:49.584Z"
   },
   {
    "duration": 0,
    "start_time": "2024-12-05T11:59:49.585Z"
   },
   {
    "duration": 0,
    "start_time": "2024-12-05T11:59:49.586Z"
   },
   {
    "duration": 0,
    "start_time": "2024-12-05T11:59:49.588Z"
   },
   {
    "duration": 0,
    "start_time": "2024-12-05T11:59:49.589Z"
   },
   {
    "duration": 0,
    "start_time": "2024-12-05T11:59:49.590Z"
   },
   {
    "duration": 0,
    "start_time": "2024-12-05T11:59:49.591Z"
   },
   {
    "duration": 0,
    "start_time": "2024-12-05T11:59:49.592Z"
   },
   {
    "duration": 0,
    "start_time": "2024-12-05T11:59:49.621Z"
   },
   {
    "duration": 0,
    "start_time": "2024-12-05T11:59:49.622Z"
   },
   {
    "duration": 0,
    "start_time": "2024-12-05T11:59:49.623Z"
   },
   {
    "duration": 0,
    "start_time": "2024-12-05T11:59:49.624Z"
   },
   {
    "duration": 0,
    "start_time": "2024-12-05T11:59:49.625Z"
   },
   {
    "duration": 0,
    "start_time": "2024-12-05T11:59:49.626Z"
   },
   {
    "duration": 0,
    "start_time": "2024-12-05T11:59:49.627Z"
   },
   {
    "duration": 0,
    "start_time": "2024-12-05T11:59:49.628Z"
   },
   {
    "duration": 0,
    "start_time": "2024-12-05T11:59:49.629Z"
   },
   {
    "duration": 0,
    "start_time": "2024-12-05T11:59:49.630Z"
   },
   {
    "duration": 0,
    "start_time": "2024-12-05T11:59:49.631Z"
   },
   {
    "duration": 0,
    "start_time": "2024-12-05T11:59:49.632Z"
   },
   {
    "duration": 0,
    "start_time": "2024-12-05T11:59:49.633Z"
   },
   {
    "duration": 0,
    "start_time": "2024-12-05T11:59:49.634Z"
   },
   {
    "duration": 1,
    "start_time": "2024-12-05T11:59:49.634Z"
   },
   {
    "duration": 0,
    "start_time": "2024-12-05T11:59:49.636Z"
   },
   {
    "duration": 0,
    "start_time": "2024-12-05T11:59:49.637Z"
   },
   {
    "duration": 0,
    "start_time": "2024-12-05T11:59:49.638Z"
   },
   {
    "duration": 0,
    "start_time": "2024-12-05T11:59:49.638Z"
   },
   {
    "duration": 0,
    "start_time": "2024-12-05T11:59:49.639Z"
   },
   {
    "duration": 0,
    "start_time": "2024-12-05T11:59:49.640Z"
   },
   {
    "duration": 1,
    "start_time": "2024-12-05T11:59:49.641Z"
   },
   {
    "duration": 0,
    "start_time": "2024-12-05T11:59:49.642Z"
   },
   {
    "duration": 0,
    "start_time": "2024-12-05T11:59:49.643Z"
   },
   {
    "duration": 1136,
    "start_time": "2024-12-05T12:01:54.690Z"
   },
   {
    "duration": 80,
    "start_time": "2024-12-05T12:01:55.828Z"
   },
   {
    "duration": 14,
    "start_time": "2024-12-05T12:01:55.910Z"
   },
   {
    "duration": 24,
    "start_time": "2024-12-05T12:01:55.926Z"
   },
   {
    "duration": 27,
    "start_time": "2024-12-05T12:01:55.951Z"
   },
   {
    "duration": 34,
    "start_time": "2024-12-05T12:01:55.980Z"
   },
   {
    "duration": 22,
    "start_time": "2024-12-05T12:01:56.016Z"
   },
   {
    "duration": 28,
    "start_time": "2024-12-05T12:01:56.039Z"
   },
   {
    "duration": 40,
    "start_time": "2024-12-05T12:01:56.068Z"
   },
   {
    "duration": 23,
    "start_time": "2024-12-05T12:01:56.111Z"
   },
   {
    "duration": 30,
    "start_time": "2024-12-05T12:01:56.135Z"
   },
   {
    "duration": 48,
    "start_time": "2024-12-05T12:01:56.166Z"
   },
   {
    "duration": 28,
    "start_time": "2024-12-05T12:01:56.215Z"
   },
   {
    "duration": 31,
    "start_time": "2024-12-05T12:01:56.244Z"
   },
   {
    "duration": 25,
    "start_time": "2024-12-05T12:01:56.276Z"
   },
   {
    "duration": 86,
    "start_time": "2024-12-05T12:01:56.302Z"
   },
   {
    "duration": 186,
    "start_time": "2024-12-05T12:01:56.389Z"
   },
   {
    "duration": 297,
    "start_time": "2024-12-05T12:01:56.577Z"
   },
   {
    "duration": 6,
    "start_time": "2024-12-05T12:01:56.876Z"
   },
   {
    "duration": 177,
    "start_time": "2024-12-05T12:01:56.883Z"
   },
   {
    "duration": 9,
    "start_time": "2024-12-05T12:01:57.061Z"
   },
   {
    "duration": 183,
    "start_time": "2024-12-05T12:01:57.071Z"
   },
   {
    "duration": 8,
    "start_time": "2024-12-05T12:01:57.255Z"
   },
   {
    "duration": 15,
    "start_time": "2024-12-05T12:01:57.265Z"
   },
   {
    "duration": 231,
    "start_time": "2024-12-05T12:01:57.282Z"
   },
   {
    "duration": 14,
    "start_time": "2024-12-05T12:01:57.515Z"
   },
   {
    "duration": 28,
    "start_time": "2024-12-05T12:01:57.531Z"
   },
   {
    "duration": 194,
    "start_time": "2024-12-05T12:01:57.563Z"
   },
   {
    "duration": 4,
    "start_time": "2024-12-05T12:01:57.759Z"
   },
   {
    "duration": 79,
    "start_time": "2024-12-05T12:01:57.765Z"
   },
   {
    "duration": 16,
    "start_time": "2024-12-05T12:01:57.846Z"
   },
   {
    "duration": 41,
    "start_time": "2024-12-05T12:01:57.863Z"
   },
   {
    "duration": 34,
    "start_time": "2024-12-05T12:01:57.905Z"
   },
   {
    "duration": 32,
    "start_time": "2024-12-05T12:01:57.941Z"
   },
   {
    "duration": 182,
    "start_time": "2024-12-05T12:01:57.975Z"
   },
   {
    "duration": 164,
    "start_time": "2024-12-05T12:01:58.159Z"
   },
   {
    "duration": 168,
    "start_time": "2024-12-05T12:01:58.324Z"
   },
   {
    "duration": 237,
    "start_time": "2024-12-05T12:01:58.494Z"
   },
   {
    "duration": 32,
    "start_time": "2024-12-05T12:01:58.733Z"
   },
   {
    "duration": 181,
    "start_time": "2024-12-05T12:01:58.766Z"
   },
   {
    "duration": 5,
    "start_time": "2024-12-05T12:01:58.948Z"
   },
   {
    "duration": 52,
    "start_time": "2024-12-05T12:01:58.955Z"
   },
   {
    "duration": 44,
    "start_time": "2024-12-05T12:01:59.009Z"
   },
   {
    "duration": 151,
    "start_time": "2024-12-05T12:01:59.055Z"
   },
   {
    "duration": 5,
    "start_time": "2024-12-05T12:01:59.207Z"
   },
   {
    "duration": 100,
    "start_time": "2024-12-05T12:02:39.250Z"
   },
   {
    "duration": 1192,
    "start_time": "2024-12-05T12:15:14.605Z"
   },
   {
    "duration": 290,
    "start_time": "2024-12-05T12:15:15.799Z"
   },
   {
    "duration": 12,
    "start_time": "2024-12-05T12:15:16.091Z"
   },
   {
    "duration": 16,
    "start_time": "2024-12-05T12:15:16.104Z"
   },
   {
    "duration": 11,
    "start_time": "2024-12-05T12:15:16.121Z"
   },
   {
    "duration": 11,
    "start_time": "2024-12-05T12:15:16.134Z"
   },
   {
    "duration": 6,
    "start_time": "2024-12-05T12:15:16.146Z"
   },
   {
    "duration": 19,
    "start_time": "2024-12-05T12:15:16.154Z"
   },
   {
    "duration": 21,
    "start_time": "2024-12-05T12:15:16.174Z"
   },
   {
    "duration": 18,
    "start_time": "2024-12-05T12:15:16.197Z"
   },
   {
    "duration": 11,
    "start_time": "2024-12-05T12:15:16.216Z"
   },
   {
    "duration": 8,
    "start_time": "2024-12-05T12:15:16.228Z"
   },
   {
    "duration": 9,
    "start_time": "2024-12-05T12:15:16.237Z"
   },
   {
    "duration": 35,
    "start_time": "2024-12-05T12:15:16.249Z"
   },
   {
    "duration": 16,
    "start_time": "2024-12-05T12:15:16.286Z"
   },
   {
    "duration": 4,
    "start_time": "2024-12-05T12:15:16.304Z"
   },
   {
    "duration": 174,
    "start_time": "2024-12-05T12:15:16.309Z"
   },
   {
    "duration": 300,
    "start_time": "2024-12-05T12:15:16.485Z"
   },
   {
    "duration": 5,
    "start_time": "2024-12-05T12:15:16.787Z"
   },
   {
    "duration": 117,
    "start_time": "2024-12-05T12:15:16.793Z"
   },
   {
    "duration": 7,
    "start_time": "2024-12-05T12:15:16.912Z"
   },
   {
    "duration": 173,
    "start_time": "2024-12-05T12:15:16.921Z"
   },
   {
    "duration": 8,
    "start_time": "2024-12-05T12:15:17.095Z"
   },
   {
    "duration": 3,
    "start_time": "2024-12-05T12:15:17.104Z"
   },
   {
    "duration": 182,
    "start_time": "2024-12-05T12:15:17.108Z"
   },
   {
    "duration": 8,
    "start_time": "2024-12-05T12:15:17.291Z"
   },
   {
    "duration": 3,
    "start_time": "2024-12-05T12:15:17.300Z"
   },
   {
    "duration": 139,
    "start_time": "2024-12-05T12:15:17.304Z"
   },
   {
    "duration": 4,
    "start_time": "2024-12-05T12:15:17.445Z"
   },
   {
    "duration": 29,
    "start_time": "2024-12-05T12:15:17.450Z"
   },
   {
    "duration": 3,
    "start_time": "2024-12-05T12:15:17.482Z"
   },
   {
    "duration": 9,
    "start_time": "2024-12-05T12:15:17.486Z"
   },
   {
    "duration": 14,
    "start_time": "2024-12-05T12:15:17.496Z"
   },
   {
    "duration": 11,
    "start_time": "2024-12-05T12:15:17.511Z"
   },
   {
    "duration": 164,
    "start_time": "2024-12-05T12:15:17.523Z"
   },
   {
    "duration": 140,
    "start_time": "2024-12-05T12:15:17.688Z"
   },
   {
    "duration": 151,
    "start_time": "2024-12-05T12:15:17.830Z"
   },
   {
    "duration": 195,
    "start_time": "2024-12-05T12:15:17.982Z"
   },
   {
    "duration": 26,
    "start_time": "2024-12-05T12:15:18.178Z"
   },
   {
    "duration": 167,
    "start_time": "2024-12-05T12:15:18.205Z"
   },
   {
    "duration": 4,
    "start_time": "2024-12-05T12:15:18.375Z"
   },
   {
    "duration": 4,
    "start_time": "2024-12-05T12:15:18.380Z"
   },
   {
    "duration": 10,
    "start_time": "2024-12-05T12:15:18.386Z"
   },
   {
    "duration": 134,
    "start_time": "2024-12-05T12:15:18.397Z"
   },
   {
    "duration": 4,
    "start_time": "2024-12-05T12:15:18.532Z"
   }
  ],
  "kernelspec": {
   "display_name": "Python 3 (ipykernel)",
   "language": "python",
   "name": "python3"
  },
  "language_info": {
   "codemirror_mode": {
    "name": "ipython",
    "version": 3
   },
   "file_extension": ".py",
   "mimetype": "text/x-python",
   "name": "python",
   "nbconvert_exporter": "python",
   "pygments_lexer": "ipython3",
   "version": "3.10.9"
  },
  "toc": {
   "base_numbering": 1,
   "nav_menu": {},
   "number_sections": true,
   "sideBar": true,
   "skip_h1_title": true,
   "title_cell": "Table of Contents",
   "title_sidebar": "Contents",
   "toc_cell": false,
   "toc_position": {},
   "toc_section_display": true,
   "toc_window_display": false
  }
 },
 "nbformat": 4,
 "nbformat_minor": 5
}
